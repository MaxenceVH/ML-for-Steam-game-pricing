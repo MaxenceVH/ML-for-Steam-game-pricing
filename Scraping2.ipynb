{
 "cells": [
  {
   "cell_type": "code",
   "execution_count": 3,
   "id": "79931659-72c6-472f-8933-38e994dd3c79",
   "metadata": {},
   "outputs": [],
   "source": [
    "import requests\n",
    "import time\n",
    "import pandas as pd\n",
    "import re\n",
    "import json\n",
    "from bs4 import BeautifulSoup\n",
    "from random import uniform\n",
    "from datetime import datetime\n",
    "from tqdm import tqdm\n",
    "from IPython.display import clear_output"
   ]
  },
  {
   "cell_type": "markdown",
   "id": "3d744a77-e527-44d7-8522-9275c5827dd1",
   "metadata": {
    "tags": []
   },
   "source": [
    "## Scrapping of one game :"
   ]
  },
  {
   "cell_type": "code",
   "execution_count": 4,
   "id": "bbdeb7cf-ae4c-40b2-a834-479894e98f85",
   "metadata": {},
   "outputs": [
    {
     "name": "stdout",
     "output_type": "stream",
     "text": [
      "Counter-Strike 2\n",
      "Action\n",
      "Very Positive\n",
      "True\n",
      "True\n",
      "2012-08-21 00:00:00\n",
      "True\n"
     ]
    }
   ],
   "source": [
    "urls = 'https://store.steampowered.com/app/730/CounterStrike_Global_Offensive/'\n",
    "\n",
    "page = requests.get(urls, headers = {\"Accept-Language\": \"en-US\"})\n",
    "bs = BeautifulSoup(page.text, 'html.parser')\n",
    "\n",
    "# Find name\n",
    "name_block = bs.find('div','apphub_AppName')\n",
    "name = name_block.contents[0]\n",
    "print(name)\n",
    "\n",
    "# Find genres\n",
    "genreblock = bs.find('div','details_block')\n",
    "title = genreblock.findAll('a')\n",
    "\n",
    "genres = ['Simulation', 'Sports', 'Action', 'Adventure', 'RPG', 'Strategy', 'Sports', 'Racing', 'Indie',\n",
    "         'Free to Play', 'Massively Multiplayer', 'Casual', 'Early Access']\n",
    "\n",
    "genre = []\n",
    "\n",
    "for g in title:\n",
    "    if g.contents[0] in genres:\n",
    "        genre.append(g.contents[0])\n",
    "        print(g.contents[0])\n",
    "\n",
    "# Find rating\n",
    "rating_block = bs.find('div', 'summary_section')\n",
    "rating_span = rating_block.findAll('span','game_review_summary')\n",
    "rating = rating_span[0].contents[0]\n",
    "print(rating)\n",
    "\n",
    "\n",
    "# Price\n",
    "price = None\n",
    "\n",
    "    # Case 1 : Discount\n",
    "tr = bs.find('div', 'discount_original_price')\n",
    "if tr:\n",
    "    price = tr.text.strip()\n",
    "\n",
    "    # Case 2 : No Discount\n",
    "if not price:\n",
    "    no_disc = bs.find('div', 'game_purchase_price price')\n",
    "    if no_disc:\n",
    "        price = no_disc.text.strip()\n",
    "\n",
    "# In-App Purchases\n",
    "inAppPurchase = False\n",
    "\n",
    "cat_block = bs.find('div', 'game_area_features_list_ctn')\n",
    "categor = cat_block.findAll('a')\n",
    "for cat in categor:\n",
    "    ok = cat.find('div', 'label')\n",
    "    if 'In-App Purchases' in ok.contents[0]:\n",
    "        inAppPurchase = True\n",
    "print(inAppPurchase)\n",
    "\n",
    "# DLC\n",
    "has_DLC = False\n",
    "\n",
    "dlc = bs.find('div', 'game_area_dlc_section')\n",
    "if dlc:\n",
    "    has_DLC = True\n",
    "print(has_DLC)\n",
    "\n",
    "# Release Date\n",
    "release_date = 'N/A'\n",
    "\n",
    "release_date_block = bs.find('div', class_='release_date')\n",
    "if release_date_block:\n",
    "    date_div = release_date_block.find('div', class_='date')\n",
    "    release_date = date_div.text.strip() if date_div else 'N/A'\n",
    "    release_date_obj = datetime.strptime(release_date, \"%d %b, %Y\")\n",
    "print(release_date_obj)\n",
    "\n",
    "# Multiplayer\n",
    "tags = []\n",
    "is_multiplayer = False\n",
    "\n",
    "tag_block = bs.find_all('a', class_='app_tag')\n",
    "tags = [tag.text.strip() for tag in tag_block if tag.text.strip()]\n",
    "is_multiplayer = any(\"multiplayer\" in tag.lower() for tag in tags)\n",
    "print(is_multiplayer)"
   ]
  },
  {
   "cell_type": "markdown",
   "id": "681e3dea-6fd1-4995-a3a1-36000e3e9b2b",
   "metadata": {
    "tags": []
   },
   "source": [
    "## Scraping most sold games"
   ]
  },
  {
   "cell_type": "markdown",
   "id": "7a1caf86",
   "metadata": {},
   "source": [
    "Each page contains 25 games."
   ]
  },
  {
   "cell_type": "code",
   "execution_count": 5,
   "id": "7b9aa88e",
   "metadata": {},
   "outputs": [],
   "source": [
    "number_of_pages_scraped = 280"
   ]
  },
  {
   "cell_type": "code",
   "execution_count": 6,
   "id": "1228fdc6-bcf6-4066-8f6b-0195dc8af8c3",
   "metadata": {},
   "outputs": [
    {
     "name": "stderr",
     "output_type": "stream",
     "text": [
      "Scraping pages:   0%|          | 0/280 [00:00<?, ?it/s]"
     ]
    },
    {
     "name": "stderr",
     "output_type": "stream",
     "text": [
      "Scraping pages: 100%|██████████| 280/280 [05:00<00:00,  1.07s/it]\n"
     ]
    }
   ],
   "source": [
    "links = []\n",
    "\n",
    "for i in tqdm(range(1, number_of_pages_scraped + 1), desc=\"Scraping pages\") :\n",
    "    url = 'https://store.steampowered.com/search/?sort_by=&sort_order=0&filter=topsellers&supportedlang=english&page=' + str(i)\n",
    "\n",
    "    page = requests.get(url, headers = {\"Accept-Language\": \"en-US\"})\n",
    "    bs = BeautifulSoup(page.text, 'html.parser')\n",
    "    games = bs.find('div', 'search_results')\n",
    "    game_list = games.findAll('a')\n",
    "\n",
    "    for j in range(25):\n",
    "        links.append(game_list[j]['href'])\n",
    "    randsleep = uniform(0.0,0.7)\n",
    "    time.sleep(randsleep)"
   ]
  },
  {
   "cell_type": "code",
   "execution_count": 7,
   "id": "291dea6d-738e-4400-be19-2e7373a2c1e4",
   "metadata": {},
   "outputs": [
    {
     "name": "stderr",
     "output_type": "stream",
     "text": [
      "Scraping games:   0%|          | 0/7000 [00:00<?, ?it/s]"
     ]
    },
    {
     "name": "stderr",
     "output_type": "stream",
     "text": [
      "C:\\Users\\maxen\\AppData\\Local\\Temp\\ipykernel_17012\\113701633.py:91: FutureWarning: The behavior of DataFrame concatenation with empty or all-NA entries is deprecated. In a future version, this will no longer exclude empty or all-NA columns when determining the result dtypes. To retain the old behavior, exclude the relevant entries before the concat operation.\n",
      "  df = pd.concat([df,pd.DataFrame(row)])\n",
      "Scraping games:   0%|          | 4/7000 [00:03<1:28:57,  1.31it/s]"
     ]
    },
    {
     "name": "stdout",
     "output_type": "stream",
     "text": [
      "Erreur sur le jeu https://store.steampowered.com/app/1675200/Steam_Deck/?snr=1_7_7_7000_150_1 : 'NoneType' object has no attribute 'findAll'\n"
     ]
    },
    {
     "name": "stderr",
     "output_type": "stream",
     "text": [
      "Scraping games:   2%|▏         | 120/7000 [01:44<1:38:45,  1.16it/s]"
     ]
    },
    {
     "name": "stdout",
     "output_type": "stream",
     "text": [
      "Erreur sur le jeu https://store.steampowered.com/app/1696780/Steam_Deck_Docking_Station/?snr=1_7_7_7000_150_5 : 'NoneType' object has no attribute 'findAll'\n"
     ]
    },
    {
     "name": "stderr",
     "output_type": "stream",
     "text": [
      "Scraping games:  20%|██        | 1424/7000 [21:19<1:11:21,  1.30it/s]"
     ]
    },
    {
     "name": "stdout",
     "output_type": "stream",
     "text": [
      "Erreur sur le jeu https://store.steampowered.com/app/1110800/The_Slormancer__Original_Soundtrack/?snr=1_7_7_7000_150_57 : 'NoneType' object has no attribute 'findAll'\n"
     ]
    },
    {
     "name": "stderr",
     "output_type": "stream",
     "text": [
      "Scraping games:  24%|██▍       | 1699/7000 [25:21<1:03:30,  1.39it/s]"
     ]
    },
    {
     "name": "stdout",
     "output_type": "stream",
     "text": [
      "Erreur sur le jeu https://store.steampowered.com/app/3660300/Cash_Cleaner_Simulator__Soundtrack/?snr=1_7_7_7000_150_68 : 'NoneType' object has no attribute 'findAll'\n"
     ]
    },
    {
     "name": "stderr",
     "output_type": "stream",
     "text": [
      "Scraping games:  28%|██▊       | 1948/7000 [29:23<1:02:05,  1.36it/s]"
     ]
    },
    {
     "name": "stdout",
     "output_type": "stream",
     "text": [
      "Erreur sur le jeu https://store.steampowered.com/app/3089910/Ready_or_Not_Official_Soundtrack/?snr=1_7_7_7000_150_78 : 'NoneType' object has no attribute 'findAll'\n"
     ]
    },
    {
     "name": "stderr",
     "output_type": "stream",
     "text": [
      "Scraping games:  30%|███       | 2121/7000 [31:58<52:31,  1.55it/s]  "
     ]
    },
    {
     "name": "stdout",
     "output_type": "stream",
     "text": [
      "Erreur sur le jeu https://store.steampowered.com/app/1658570/ENDER_LILIES_Quietus_of_the_Knights_Original_Soundtrack/?snr=1_7_7_7000_150_85 : 'NoneType' object has no attribute 'findAll'\n"
     ]
    },
    {
     "name": "stderr",
     "output_type": "stream",
     "text": [
      "Scraping games:  31%|███       | 2148/7000 [32:20<1:01:00,  1.33it/s]"
     ]
    },
    {
     "name": "stdout",
     "output_type": "stream",
     "text": [
      "Erreur sur le jeu https://store.steampowered.com/app/3424590/Jotunnslayer_Hordes_of_Hel_Soundtrack/?snr=1_7_7_7000_150_86 : 'NoneType' object has no attribute 'findAll'\n"
     ]
    },
    {
     "name": "stderr",
     "output_type": "stream",
     "text": [
      "Scraping games:  33%|███▎      | 2328/7000 [35:14<55:15,  1.41it/s]  "
     ]
    },
    {
     "name": "stdout",
     "output_type": "stream",
     "text": [
      "Erreur sur le jeu https://store.steampowered.com/app/2468700/Dinkum_OST/?snr=1_7_7_7000_150_94 : 'NoneType' object has no attribute 'findAll'\n"
     ]
    },
    {
     "name": "stderr",
     "output_type": "stream",
     "text": [
      "Scraping games:  37%|███▋      | 2589/7000 [39:11<58:36,  1.25it/s]  "
     ]
    },
    {
     "name": "stdout",
     "output_type": "stream",
     "text": [
      "Erreur sur le jeu https://store.steampowered.com/app/3067700/Nuclear_Option_Soundtrack/?snr=1_7_7_7000_150_104 : 'NoneType' object has no attribute 'findAll'\n"
     ]
    },
    {
     "name": "stderr",
     "output_type": "stream",
     "text": [
      "Scraping games:  37%|███▋      | 2622/7000 [39:41<57:48,  1.26it/s]  "
     ]
    },
    {
     "name": "stdout",
     "output_type": "stream",
     "text": [
      "Erreur sur le jeu https://store.steampowered.com/app/3214940/SpellForce_Conquest_of_Eo_Soundtrack/?snr=1_7_7_7000_150_105 : 'NoneType' object has no attribute 'findAll'\n"
     ]
    },
    {
     "name": "stderr",
     "output_type": "stream",
     "text": [
      "Scraping games:  39%|███▊      | 2703/7000 [40:55<1:08:12,  1.05it/s]"
     ]
    },
    {
     "name": "stdout",
     "output_type": "stream",
     "text": [
      "Erreur sur le jeu https://store.steampowered.com/app/3226080/Tiny_Glade_Soundtrack/?snr=1_7_7_7000_150_109 : 'NoneType' object has no attribute 'findAll'\n"
     ]
    },
    {
     "name": "stderr",
     "output_type": "stream",
     "text": [
      "Scraping games:  39%|███▉      | 2754/7000 [41:38<56:26,  1.25it/s]  "
     ]
    },
    {
     "name": "stdout",
     "output_type": "stream",
     "text": [
      "Erreur sur le jeu https://store.steampowered.com/app/3092730/Bloomtown_A_Different_Story_Supporter_pack__OST__Arts/?snr=1_7_7_7000_150_111 : 'NoneType' object has no attribute 'findAll'\n"
     ]
    },
    {
     "name": "stderr",
     "output_type": "stream",
     "text": [
      "Scraping games:  40%|███▉      | 2775/7000 [41:58<1:15:04,  1.07s/it]"
     ]
    },
    {
     "name": "stdout",
     "output_type": "stream",
     "text": [
      "Erreur sur le jeu https://store.steampowered.com/app/3587100/Haste_Soundtrack/?snr=1_7_7_7000_150_111 : 'NoneType' object has no attribute 'findAll'\n"
     ]
    },
    {
     "name": "stderr",
     "output_type": "stream",
     "text": [
      "Scraping games:  43%|████▎     | 3041/7000 [46:04<57:45,  1.14it/s]  "
     ]
    },
    {
     "name": "stdout",
     "output_type": "stream",
     "text": [
      "Erreur sur le jeu https://store.steampowered.com/app/1932460/Battlefield_2042_Official_Soundtrack/?snr=1_7_7_7000_150_122 : 'NoneType' object has no attribute 'findAll'\n"
     ]
    },
    {
     "name": "stderr",
     "output_type": "stream",
     "text": [
      "Scraping games:  47%|████▋     | 3261/7000 [49:35<56:08,  1.11it/s]  "
     ]
    },
    {
     "name": "stdout",
     "output_type": "stream",
     "text": [
      "Erreur sur le jeu https://store.steampowered.com/app/457840/Enter_the_Gungeon__Soundtrack/?snr=1_7_7_7000_150_131 : 'NoneType' object has no attribute 'findAll'\n"
     ]
    },
    {
     "name": "stderr",
     "output_type": "stream",
     "text": [
      "Scraping games:  47%|████▋     | 3286/7000 [49:58<36:26,  1.70it/s]  "
     ]
    },
    {
     "name": "stdout",
     "output_type": "stream",
     "text": [
      "Erreur sur le jeu https://store.steampowered.com/app/3673260/Tower_Dominion__Soundtrack/?snr=1_7_7_7000_150_132 : 'NoneType' object has no attribute 'findAll'\n"
     ]
    },
    {
     "name": "stderr",
     "output_type": "stream",
     "text": [
      "Scraping games:  49%|████▊     | 3411/7000 [52:02<48:55,  1.22it/s]  "
     ]
    },
    {
     "name": "stdout",
     "output_type": "stream",
     "text": [
      "Erreur sur le jeu https://store.steampowered.com/app/2169090/Vampire_Survivors_Soundtrack/?snr=1_7_7_7000_150_137 : 'NoneType' object has no attribute 'findAll'\n"
     ]
    },
    {
     "name": "stderr",
     "output_type": "stream",
     "text": [
      "Scraping games:  55%|█████▍    | 3820/7000 [58:44<49:49,  1.06it/s]  "
     ]
    },
    {
     "name": "stdout",
     "output_type": "stream",
     "text": [
      "Erreur sur le jeu https://store.steampowered.com/app/3179550/REKA_Soundtrack/?snr=1_7_7_7000_150_153 : 'NoneType' object has no attribute 'findAll'\n"
     ]
    },
    {
     "name": "stderr",
     "output_type": "stream",
     "text": [
      "Scraping games:  55%|█████▌    | 3872/7000 [59:35<41:22,  1.26it/s]  "
     ]
    },
    {
     "name": "stdout",
     "output_type": "stream",
     "text": [
      "Erreur sur le jeu https://store.steampowered.com/app/2427746/Cities_Skylines_II__Cold_Wave_Channel/?snr=1_7_7_7000_150_155 : time data 'Q2 2025' does not match format '%d %b, %Y'\n"
     ]
    },
    {
     "name": "stderr",
     "output_type": "stream",
     "text": [
      "Scraping games:  56%|█████▌    | 3890/7000 [59:51<41:41,  1.24it/s]"
     ]
    },
    {
     "name": "stdout",
     "output_type": "stream",
     "text": [
      "Erreur sur le jeu https://store.steampowered.com/app/3165080/Mika_and_The_Witchs_Mountain_Soundtrack/?snr=1_7_7_7000_150_156 : 'NoneType' object has no attribute 'findAll'\n"
     ]
    },
    {
     "name": "stderr",
     "output_type": "stream",
     "text": [
      "Scraping games:  57%|█████▋    | 3969/7000 [1:01:07<40:08,  1.26it/s]  "
     ]
    },
    {
     "name": "stdout",
     "output_type": "stream",
     "text": [
      "Erreur sur le jeu https://store.steampowered.com/app/2244510/En_Garde_Soundtrack/?snr=1_7_7_7000_150_159 : 'NoneType' object has no attribute 'findAll'\n"
     ]
    },
    {
     "name": "stderr",
     "output_type": "stream",
     "text": [
      "Scraping games:  57%|█████▋    | 3971/7000 [1:01:09<38:52,  1.30it/s]"
     ]
    },
    {
     "name": "stdout",
     "output_type": "stream",
     "text": [
      "Erreur sur le jeu https://store.steampowered.com/app/1258740/Ori_and_the_Will_of_the_Wisps_Soundtrack/?snr=1_7_7_7000_150_159 : 'NoneType' object has no attribute 'findAll'\n"
     ]
    },
    {
     "name": "stderr",
     "output_type": "stream",
     "text": [
      "Scraping games:  57%|█████▋    | 4005/7000 [1:01:41<39:50,  1.25it/s]  "
     ]
    },
    {
     "name": "stdout",
     "output_type": "stream",
     "text": [
      "Erreur sur le jeu https://store.steampowered.com/app/3281080/Brotato_Soundtrack/?snr=1_7_7_7000_150_161 : 'NoneType' object has no attribute 'findAll'\n"
     ]
    },
    {
     "name": "stderr",
     "output_type": "stream",
     "text": [
      "Scraping games:  58%|█████▊    | 4060/7000 [1:02:28<34:51,  1.41it/s]"
     ]
    },
    {
     "name": "stdout",
     "output_type": "stream",
     "text": [
      "Erreur sur le jeu https://store.steampowered.com/app/2427743/Cities_Skylines_II__Bridges__Ports/?snr=1_7_7_7000_150_163 : time data 'Q2 2025' does not match format '%d %b, %Y'\n"
     ]
    },
    {
     "name": "stderr",
     "output_type": "stream",
     "text": [
      "Scraping games:  60%|█████▉    | 4174/7000 [1:04:16<41:44,  1.13it/s]  "
     ]
    },
    {
     "name": "stdout",
     "output_type": "stream",
     "text": [
      "Erreur sur le jeu https://store.steampowered.com/app/3514250/NieR_Replicant_ver122474487139_Choir_Arrangement_Album/?snr=1_7_7_7000_150_167 : 'NoneType' object has no attribute 'findAll'\n"
     ]
    },
    {
     "name": "stderr",
     "output_type": "stream",
     "text": [
      "Scraping games:  62%|██████▏   | 4313/7000 [1:06:22<33:18,  1.34it/s]  "
     ]
    },
    {
     "name": "stdout",
     "output_type": "stream",
     "text": [
      "Erreur sur le jeu https://store.steampowered.com/app/3240070/The_Precinct_Soundtrack/?snr=1_7_7_7000_150_173 : 'NoneType' object has no attribute 'findAll'\n"
     ]
    },
    {
     "name": "stderr",
     "output_type": "stream",
     "text": [
      "Scraping games:  62%|██████▏   | 4346/7000 [1:06:51<35:30,  1.25it/s]"
     ]
    },
    {
     "name": "stdout",
     "output_type": "stream",
     "text": [
      "Erreur sur le jeu https://store.steampowered.com/app/2259020/Cassette_Beasts_Original_Soundtrack/?snr=1_7_7_7000_150_174 : 'NoneType' object has no attribute 'findAll'\n"
     ]
    },
    {
     "name": "stderr",
     "output_type": "stream",
     "text": [
      "Scraping games:  62%|██████▏   | 4359/7000 [1:07:01<32:10,  1.37it/s]"
     ]
    },
    {
     "name": "stdout",
     "output_type": "stream",
     "text": [
      "Erreur sur le jeu https://store.steampowered.com/app/1238660/Automation__Original_Soundtrack/?snr=1_7_7_7000_150_175 : 'NoneType' object has no attribute 'findAll'\n"
     ]
    },
    {
     "name": "stderr",
     "output_type": "stream",
     "text": [
      "Scraping games:  64%|██████▍   | 4501/7000 [1:09:31<1:06:50,  1.60s/it]"
     ]
    },
    {
     "name": "stdout",
     "output_type": "stream",
     "text": [
      "Erreur sur le jeu https://store.steampowered.com/app/2901220/Palia_Original_Soundtrack/?snr=1_7_7_7000_150_181 : 'NoneType' object has no attribute 'findAll'\n"
     ]
    },
    {
     "name": "stderr",
     "output_type": "stream",
     "text": [
      "Scraping games:  65%|██████▌   | 4580/7000 [1:10:43<35:47,  1.13it/s]  "
     ]
    },
    {
     "name": "stdout",
     "output_type": "stream",
     "text": [
      "Erreur sur le jeu https://store.steampowered.com/app/3001180/Dolls_Nest_Original_SoundTrack_The_Origin_of_Species/?snr=1_7_7_7000_150_184 : 'NoneType' object has no attribute 'findAll'\n"
     ]
    },
    {
     "name": "stderr",
     "output_type": "stream",
     "text": [
      "Scraping games:  66%|██████▌   | 4604/7000 [1:11:05<35:10,  1.14it/s]  "
     ]
    },
    {
     "name": "stdout",
     "output_type": "stream",
     "text": [
      "Erreur sur le jeu https://store.steampowered.com/app/2521290/Chants_of_Sennaar__Original_Soundtrack/?snr=1_7_7_7000_150_185 : 'NoneType' object has no attribute 'findAll'\n"
     ]
    },
    {
     "name": "stderr",
     "output_type": "stream",
     "text": [
      "Scraping games:  66%|██████▌   | 4622/7000 [1:11:24<30:07,  1.32it/s]  "
     ]
    },
    {
     "name": "stdout",
     "output_type": "stream",
     "text": [
      "Erreur sur le jeu https://store.steampowered.com/app/1237420/HYPERCHARGE_Unboxed_Original_Soundtrack/?snr=1_7_7_7000_150_185 : 'NoneType' object has no attribute 'findAll'\n"
     ]
    },
    {
     "name": "stderr",
     "output_type": "stream",
     "text": [
      "Scraping games:  66%|██████▋   | 4642/7000 [1:11:42<26:52,  1.46it/s]"
     ]
    },
    {
     "name": "stdout",
     "output_type": "stream",
     "text": [
      "Erreur sur le jeu https://store.steampowered.com/app/1297600/art_of_rally_OST/?snr=1_7_7_7000_150_186 : 'NoneType' object has no attribute 'findAll'\n"
     ]
    },
    {
     "name": "stderr",
     "output_type": "stream",
     "text": [
      "Scraping games:  67%|██████▋   | 4661/7000 [1:11:57<33:25,  1.17it/s]"
     ]
    },
    {
     "name": "stdout",
     "output_type": "stream",
     "text": [
      "Erreur sur le jeu https://store.steampowered.com/app/1268460/Space_Hulk_Deathwing_Enhanced_Edition__Soundtrack/?snr=1_7_7_7000_150_187 : 'NoneType' object has no attribute 'findAll'\n"
     ]
    },
    {
     "name": "stderr",
     "output_type": "stream",
     "text": [
      "Scraping games:  67%|██████▋   | 4678/7000 [1:12:13<31:11,  1.24it/s]"
     ]
    },
    {
     "name": "stdout",
     "output_type": "stream",
     "text": [
      "Erreur sur le jeu https://store.steampowered.com/app/1701720/Rust_Soundtrack/?snr=1_7_7_7000_150_188 : 'NoneType' object has no attribute 'findAll'\n"
     ]
    },
    {
     "name": "stderr",
     "output_type": "stream",
     "text": [
      "Scraping games:  67%|██████▋   | 4701/7000 [1:12:38<1:17:33,  2.02s/it]"
     ]
    },
    {
     "name": "stdout",
     "output_type": "stream",
     "text": [
      "Erreur sur le jeu https://store.steampowered.com/app/2500430/War_Thunder_Air_Forces_Vol2_Original_Game_Soundtrack/?snr=1_7_7_7000_150_189 : 'NoneType' object has no attribute 'findAll'\n"
     ]
    },
    {
     "name": "stderr",
     "output_type": "stream",
     "text": [
      "Scraping games:  67%|██████▋   | 4715/7000 [1:12:51<28:41,  1.33it/s]  "
     ]
    },
    {
     "name": "stdout",
     "output_type": "stream",
     "text": [
      "Erreur sur le jeu https://store.steampowered.com/app/1266760/Battlefleet_Gothic_Armada__Soundtrack/?snr=1_7_7_7000_150_189 : 'NoneType' object has no attribute 'findAll'\n"
     ]
    },
    {
     "name": "stderr",
     "output_type": "stream",
     "text": [
      "Scraping games:  68%|██████▊   | 4766/7000 [1:13:32<24:30,  1.52it/s]"
     ]
    },
    {
     "name": "stdout",
     "output_type": "stream",
     "text": [
      "Erreur sur le jeu https://store.steampowered.com/app/1268450/Battlefleet_Gothic_Armada_2__Soundtrack/?snr=1_7_7_7000_150_191 : 'NoneType' object has no attribute 'findAll'\n"
     ]
    },
    {
     "name": "stderr",
     "output_type": "stream",
     "text": [
      "Scraping games:  68%|██████▊   | 4779/7000 [1:13:43<26:11,  1.41it/s]"
     ]
    },
    {
     "name": "stdout",
     "output_type": "stream",
     "text": [
      "Erreur sur le jeu https://store.steampowered.com/app/2182380/PowerWash_Simulator__Single/?snr=1_7_7_7000_150_192 : 'NoneType' object has no attribute 'findAll'\n"
     ]
    },
    {
     "name": "stderr",
     "output_type": "stream",
     "text": [
      "Scraping games:  70%|███████   | 4926/7000 [1:15:51<32:49,  1.05it/s]"
     ]
    },
    {
     "name": "stdout",
     "output_type": "stream",
     "text": [
      "Erreur sur le jeu https://store.steampowered.com/app/1605810/Root_Soundtrack/?snr=1_7_7_7000_150_198 : 'NoneType' object has no attribute 'findAll'\n"
     ]
    },
    {
     "name": "stderr",
     "output_type": "stream",
     "text": [
      "Scraping games:  71%|███████▏  | 4990/7000 [1:16:44<27:55,  1.20it/s]"
     ]
    },
    {
     "name": "stdout",
     "output_type": "stream",
     "text": [
      "Erreur sur le jeu https://store.steampowered.com/app/315960/Plague_Inc_Evolved_Soundtrack/?snr=1_7_7_7000_150_200 : 'NoneType' object has no attribute 'findAll'\n"
     ]
    },
    {
     "name": "stderr",
     "output_type": "stream",
     "text": [
      "Scraping games:  71%|███████▏  | 4998/7000 [1:16:52<29:55,  1.11it/s]"
     ]
    },
    {
     "name": "stdout",
     "output_type": "stream",
     "text": [
      "Erreur sur le jeu https://store.steampowered.com/app/2464600/Womanizer_Soundtrack/?snr=1_7_7_7000_150_200 : 'NoneType' object has no attribute 'findAll'\n"
     ]
    },
    {
     "name": "stderr",
     "output_type": "stream",
     "text": [
      "Scraping games:  72%|███████▏  | 5032/7000 [1:17:25<21:04,  1.56it/s]"
     ]
    },
    {
     "name": "stdout",
     "output_type": "stream",
     "text": [
      "Erreur sur le jeu https://store.steampowered.com/app/3610250/The_Darkest_Files_Soundtrack/?snr=1_7_7_7000_150_202 : 'NoneType' object has no attribute 'findAll'\n"
     ]
    },
    {
     "name": "stderr",
     "output_type": "stream",
     "text": [
      "Scraping games:  72%|███████▏  | 5070/7000 [1:17:57<27:24,  1.17it/s]"
     ]
    },
    {
     "name": "stdout",
     "output_type": "stream",
     "text": [
      "Erreur sur le jeu https://store.steampowered.com/app/1029810/The_Textorcist__Soundtrack/?snr=1_7_7_7000_150_203 : 'NoneType' object has no attribute 'findAll'\n"
     ]
    },
    {
     "name": "stderr",
     "output_type": "stream",
     "text": [
      "Scraping games:  73%|███████▎  | 5078/7000 [1:18:05<28:42,  1.12it/s]"
     ]
    },
    {
     "name": "stdout",
     "output_type": "stream",
     "text": [
      "Erreur sur le jeu https://store.steampowered.com/app/3481810/Prison_Simulator_Soundtrack/?snr=1_7_7_7000_150_204 : 'NoneType' object has no attribute 'findAll'\n"
     ]
    },
    {
     "name": "stderr",
     "output_type": "stream",
     "text": [
      "Scraping games:  75%|███████▌  | 5279/7000 [1:21:10<19:54,  1.44it/s]  "
     ]
    },
    {
     "name": "stdout",
     "output_type": "stream",
     "text": [
      "Erreur sur le jeu https://store.steampowered.com/app/3631030/StarVaders__Soundtrack/?snr=1_7_7_7000_150_212 : 'NoneType' object has no attribute 'findAll'\n"
     ]
    },
    {
     "name": "stderr",
     "output_type": "stream",
     "text": [
      "Scraping games:  75%|███████▌  | 5284/7000 [1:21:14<22:07,  1.29it/s]"
     ]
    },
    {
     "name": "stdout",
     "output_type": "stream",
     "text": [
      "Erreur sur le jeu https://store.steampowered.com/app/1143410/Neverwinter_Nights_Enhanced_Edition_Tyrants_of_the_Moonsea_Official_Soundtrack/?snr=1_7_7_7000_150_212 : 'NoneType' object has no attribute 'findAll'\n"
     ]
    },
    {
     "name": "stderr",
     "output_type": "stream",
     "text": [
      "Scraping games:  76%|███████▌  | 5300/7000 [1:21:28<19:43,  1.44it/s]"
     ]
    },
    {
     "name": "stdout",
     "output_type": "stream",
     "text": [
      "Erreur sur le jeu https://store.steampowered.com/app/3404450/MiSide_Soundtrack/?snr=1_7_7_7000_150_212 : 'NoneType' object has no attribute 'findAll'\n"
     ]
    },
    {
     "name": "stderr",
     "output_type": "stream",
     "text": [
      "Scraping games:  76%|███████▌  | 5317/7000 [1:21:42<21:32,  1.30it/s]"
     ]
    },
    {
     "name": "stdout",
     "output_type": "stream",
     "text": [
      "Erreur sur le jeu https://store.steampowered.com/app/1399610/Lonely_Mountains_Downhill__Soundtrack/?snr=1_7_7_7000_150_213 : 'NoneType' object has no attribute 'findAll'\n"
     ]
    },
    {
     "name": "stderr",
     "output_type": "stream",
     "text": [
      "Scraping games:  76%|███████▋  | 5347/7000 [1:22:07<19:50,  1.39it/s]"
     ]
    },
    {
     "name": "stdout",
     "output_type": "stream",
     "text": [
      "Erreur sur le jeu https://store.steampowered.com/app/2389350/Quilts_and_Cats_of_Calico_Soundtrack/?snr=1_7_7_7000_150_214 : 'NoneType' object has no attribute 'findAll'\n"
     ]
    },
    {
     "name": "stderr",
     "output_type": "stream",
     "text": [
      "Scraping games:  78%|███████▊  | 5450/7000 [1:23:34<16:58,  1.52it/s]"
     ]
    },
    {
     "name": "stdout",
     "output_type": "stream",
     "text": [
      "Erreur sur le jeu https://store.steampowered.com/app/3607870/Cassette_Beasts_Acoustic_Sessions/?snr=1_7_7_7000_150_218 : 'NoneType' object has no attribute 'findAll'\n"
     ]
    },
    {
     "name": "stderr",
     "output_type": "stream",
     "text": [
      "Scraping games:  80%|███████▉  | 5573/7000 [1:26:46<16:32,  1.44it/s]   "
     ]
    },
    {
     "name": "stdout",
     "output_type": "stream",
     "text": [
      "Erreur sur le jeu https://store.steampowered.com/app/3439220/Trials_of_Innocence_OST/?snr=1_7_7_7000_150_223 : 'NoneType' object has no attribute 'findAll'\n"
     ]
    },
    {
     "name": "stderr",
     "output_type": "stream",
     "text": [
      "Scraping games:  80%|███████▉  | 5574/7000 [1:26:47<15:07,  1.57it/s]"
     ]
    },
    {
     "name": "stdout",
     "output_type": "stream",
     "text": [
      "Erreur sur le jeu https://store.steampowered.com/app/1801900/DEEEER_Simulator_Soundtrack/?snr=1_7_7_7000_150_223 : 'NoneType' object has no attribute 'findAll'\n"
     ]
    },
    {
     "name": "stderr",
     "output_type": "stream",
     "text": [
      "Scraping games:  80%|███████▉  | 5580/7000 [1:26:50<11:27,  2.07it/s]"
     ]
    },
    {
     "name": "stdout",
     "output_type": "stream",
     "text": [
      "Erreur sur le jeu https://store.steampowered.com/app/3711500/Donut_Dodo_Soundtrack/?snr=1_7_7_7000_150_224 : 'NoneType' object has no attribute 'findAll'\n"
     ]
    },
    {
     "name": "stderr",
     "output_type": "stream",
     "text": [
      "Scraping games:  80%|████████  | 5609/7000 [1:27:15<16:04,  1.44it/s]"
     ]
    },
    {
     "name": "stdout",
     "output_type": "stream",
     "text": [
      "Erreur sur le jeu https://store.steampowered.com/app/2787170/Bulwark_Evolution_Falconeer_Chronicles__Official_Soundtrack/?snr=1_7_7_7000_150_225 : 'NoneType' object has no attribute 'findAll'\n"
     ]
    },
    {
     "name": "stderr",
     "output_type": "stream",
     "text": [
      "Scraping games:  80%|████████  | 5631/7000 [1:27:36<22:38,  1.01it/s]"
     ]
    },
    {
     "name": "stdout",
     "output_type": "stream",
     "text": [
      "Erreur sur le jeu https://store.steampowered.com/app/1640330/Imagine_Earth_Soundtrack/?snr=1_7_7_7000_150_226 : 'NoneType' object has no attribute 'findAll'\n"
     ]
    },
    {
     "name": "stderr",
     "output_type": "stream",
     "text": [
      "Scraping games:  81%|████████  | 5638/7000 [1:27:42<16:40,  1.36it/s]"
     ]
    },
    {
     "name": "stdout",
     "output_type": "stream",
     "text": [
      "Erreur sur le jeu https://store.steampowered.com/app/1620250/Valheim_Soundtrack/?snr=1_7_7_7000_150_226 : 'NoneType' object has no attribute 'findAll'\n"
     ]
    },
    {
     "name": "stderr",
     "output_type": "stream",
     "text": [
      "Scraping games:  84%|████████▎ | 5848/7000 [1:30:47<15:15,  1.26it/s]"
     ]
    },
    {
     "name": "stdout",
     "output_type": "stream",
     "text": [
      "Erreur sur le jeu https://store.steampowered.com/app/2959930/Besiege_Original_Soundtrack/?snr=1_7_7_7000_150_234 : 'NoneType' object has no attribute 'findAll'\n"
     ]
    },
    {
     "name": "stderr",
     "output_type": "stream",
     "text": [
      "Scraping games:  84%|████████▍ | 5865/7000 [1:30:59<11:11,  1.69it/s]"
     ]
    },
    {
     "name": "stdout",
     "output_type": "stream",
     "text": [
      "Erreur sur le jeu https://store.steampowered.com/app/1247270/Divinity_Original_Sin_2__Official_Soundtrack/?snr=1_7_7_7000_150_235 : 'NoneType' object has no attribute 'findAll'\n"
     ]
    },
    {
     "name": "stderr",
     "output_type": "stream",
     "text": [
      "Scraping games:  85%|████████▍ | 5938/7000 [1:32:08<16:34,  1.07it/s]"
     ]
    },
    {
     "name": "stdout",
     "output_type": "stream",
     "text": [
      "Erreur sur le jeu https://store.steampowered.com/app/1249990/Suicide_Guy_Soundtrack/?snr=1_7_7_7000_150_238 : 'NoneType' object has no attribute 'findAll'\n"
     ]
    },
    {
     "name": "stderr",
     "output_type": "stream",
     "text": [
      "Scraping games:  85%|████████▌ | 5954/7000 [1:32:23<13:28,  1.29it/s]"
     ]
    },
    {
     "name": "stdout",
     "output_type": "stream",
     "text": [
      "Erreur sur le jeu https://store.steampowered.com/app/2377550/Tribes_of_Midgard__Original_Soundtrack/?snr=1_7_7_7000_150_239 : 'NoneType' object has no attribute 'findAll'\n"
     ]
    },
    {
     "name": "stderr",
     "output_type": "stream",
     "text": [
      "Scraping games:  85%|████████▌ | 5971/7000 [1:32:35<11:26,  1.50it/s]"
     ]
    },
    {
     "name": "stdout",
     "output_type": "stream",
     "text": [
      "Erreur sur le jeu https://store.steampowered.com/app/1332420/Wingspan_Soundtrack/?snr=1_7_7_7000_150_239 : 'NoneType' object has no attribute 'findAll'\n"
     ]
    },
    {
     "name": "stderr",
     "output_type": "stream",
     "text": [
      "Scraping games:  86%|████████▌ | 5995/7000 [1:32:54<12:32,  1.34it/s]"
     ]
    },
    {
     "name": "stdout",
     "output_type": "stream",
     "text": [
      "Erreur sur le jeu https://store.steampowered.com/app/2081570/The_Ascent__Cyber_Heist__Soundtrack/?snr=1_7_7_7000_150_240 : 'NoneType' object has no attribute 'findAll'\n"
     ]
    },
    {
     "name": "stderr",
     "output_type": "stream",
     "text": [
      "Scraping games:  86%|████████▌ | 6033/7000 [1:33:29<11:39,  1.38it/s]"
     ]
    },
    {
     "name": "stdout",
     "output_type": "stream",
     "text": [
      "Erreur sur le jeu https://store.steampowered.com/app/3672680/Many_Nights_a_Whisper_Soundtrack/?snr=1_7_7_7000_150_242 : 'NoneType' object has no attribute 'findAll'\n"
     ]
    },
    {
     "name": "stderr",
     "output_type": "stream",
     "text": [
      "Scraping games:  87%|████████▋ | 6082/7000 [1:34:08<09:57,  1.54it/s]"
     ]
    },
    {
     "name": "stdout",
     "output_type": "stream",
     "text": [
      "Erreur sur le jeu https://store.steampowered.com/app/3637600/Portal_Fantasy_Original_Soundtrack/?snr=1_7_7_7000_150_244 : 'NoneType' object has no attribute 'findAll'\n"
     ]
    },
    {
     "name": "stderr",
     "output_type": "stream",
     "text": [
      "Scraping games:  88%|████████▊ | 6137/7000 [1:34:58<10:47,  1.33it/s]"
     ]
    },
    {
     "name": "stdout",
     "output_type": "stream",
     "text": [
      "Erreur sur le jeu https://store.steampowered.com/app/1241880/Swords_and_Sandals_Official_Soundtrack/?snr=1_7_7_7000_150_246 : 'NoneType' object has no attribute 'findAll'\n"
     ]
    },
    {
     "name": "stderr",
     "output_type": "stream",
     "text": [
      "Scraping games:  88%|████████▊ | 6171/7000 [1:35:26<11:42,  1.18it/s]"
     ]
    },
    {
     "name": "stdout",
     "output_type": "stream",
     "text": [
      "Erreur sur le jeu https://store.steampowered.com/app/3575860/Soulmask_original_game_soundtrack/?snr=1_7_7_7000_150_247 : 'NoneType' object has no attribute 'findAll'\n"
     ]
    },
    {
     "name": "stderr",
     "output_type": "stream",
     "text": [
      "Scraping games:  89%|████████▉ | 6257/7000 [1:36:44<09:35,  1.29it/s]"
     ]
    },
    {
     "name": "stdout",
     "output_type": "stream",
     "text": [
      "Erreur sur le jeu https://store.steampowered.com/app/966350/Frostpunk_Original_Soundtrack/?snr=1_7_7_7000_150_251 : 'NoneType' object has no attribute 'findAll'\n"
     ]
    },
    {
     "name": "stderr",
     "output_type": "stream",
     "text": [
      "Scraping games:  89%|████████▉ | 6264/7000 [1:36:49<07:57,  1.54it/s]"
     ]
    },
    {
     "name": "stdout",
     "output_type": "stream",
     "text": [
      "Erreur sur le jeu https://store.steampowered.com/app/1250710/Frogwares_Games_Classic_Soundtrack/?snr=1_7_7_7000_150_251 : 'NoneType' object has no attribute 'findAll'\n"
     ]
    },
    {
     "name": "stderr",
     "output_type": "stream",
     "text": [
      "Scraping games:  90%|████████▉ | 6291/7000 [1:37:10<09:51,  1.20it/s]"
     ]
    },
    {
     "name": "stdout",
     "output_type": "stream",
     "text": [
      "Erreur sur le jeu https://store.steampowered.com/app/2198580/DREDGE__Original_Soundtrack/?snr=1_7_7_7000_150_252 : 'NoneType' object has no attribute 'findAll'\n"
     ]
    },
    {
     "name": "stderr",
     "output_type": "stream",
     "text": [
      "Scraping games:  91%|█████████ | 6339/7000 [1:37:57<07:59,  1.38it/s]"
     ]
    },
    {
     "name": "stdout",
     "output_type": "stream",
     "text": [
      "Erreur sur le jeu https://store.steampowered.com/app/3010950/PANICORE_Soundtrack/?snr=1_7_7_7000_150_254 : 'NoneType' object has no attribute 'findAll'\n"
     ]
    },
    {
     "name": "stderr",
     "output_type": "stream",
     "text": [
      "Scraping games:  91%|█████████ | 6349/7000 [1:38:05<08:17,  1.31it/s]"
     ]
    },
    {
     "name": "stdout",
     "output_type": "stream",
     "text": [
      "Erreur sur le jeu https://store.steampowered.com/app/971600/Epic_Battle_Fantasy_5_Soundtrack/?snr=1_7_7_7000_150_254 : 'NoneType' object has no attribute 'findAll'\n"
     ]
    },
    {
     "name": "stderr",
     "output_type": "stream",
     "text": [
      "Scraping games:  91%|█████████ | 6354/7000 [1:38:09<07:06,  1.52it/s]"
     ]
    },
    {
     "name": "stdout",
     "output_type": "stream",
     "text": [
      "Erreur sur le jeu https://store.steampowered.com/app/2107630/Swords_and_Sandals_Immortals_Soundtrack/?snr=1_7_7_7000_150_255 : 'NoneType' object has no attribute 'findAll'\n"
     ]
    },
    {
     "name": "stderr",
     "output_type": "stream",
     "text": [
      "Scraping games:  91%|█████████ | 6368/7000 [1:38:20<08:34,  1.23it/s]"
     ]
    },
    {
     "name": "stdout",
     "output_type": "stream",
     "text": [
      "Erreur sur le jeu https://store.steampowered.com/app/1252260/Sherlock_Holmes_Franchise_Modern_Soundtrack/?snr=1_7_7_7000_150_255 : 'NoneType' object has no attribute 'findAll'\n"
     ]
    },
    {
     "name": "stderr",
     "output_type": "stream",
     "text": [
      "Scraping games:  91%|█████████ | 6369/7000 [1:38:20<07:55,  1.33it/s]"
     ]
    },
    {
     "name": "stdout",
     "output_type": "stream",
     "text": [
      "Erreur sur le jeu https://store.steampowered.com/app/1250110/Sherlock_Holmes_Franchise_Classic_Soundtrack/?snr=1_7_7_7000_150_255 : 'NoneType' object has no attribute 'findAll'\n"
     ]
    },
    {
     "name": "stderr",
     "output_type": "stream",
     "text": [
      "Scraping games:  91%|█████████ | 6379/7000 [1:38:29<07:50,  1.32it/s]"
     ]
    },
    {
     "name": "stdout",
     "output_type": "stream",
     "text": [
      "Erreur sur le jeu https://store.steampowered.com/app/3464980/Halls_of_Torment_Soundtrack/?snr=1_7_7_7000_150_256 : 'NoneType' object has no attribute 'findAll'\n"
     ]
    },
    {
     "name": "stderr",
     "output_type": "stream",
     "text": [
      "Scraping games:  92%|█████████▏| 6444/7000 [1:39:32<05:50,  1.58it/s]"
     ]
    },
    {
     "name": "stdout",
     "output_type": "stream",
     "text": [
      "Erreur sur le jeu https://store.steampowered.com/app/2097040/1428_Shadows_over_Silesia__Soundtrack/?snr=1_7_7_7000_150_258 : 'NoneType' object has no attribute 'findAll'\n"
     ]
    },
    {
     "name": "stderr",
     "output_type": "stream",
     "text": [
      "Scraping games:  94%|█████████▍| 6570/7000 [1:41:26<05:30,  1.30it/s]"
     ]
    },
    {
     "name": "stdout",
     "output_type": "stream",
     "text": [
      "Erreur sur le jeu https://store.steampowered.com/app/1941820/Animal_Shelter_Soundtrack/?snr=1_7_7_7000_150_263 : 'NoneType' object has no attribute 'findAll'\n"
     ]
    },
    {
     "name": "stderr",
     "output_type": "stream",
     "text": [
      "Scraping games:  94%|█████████▍| 6586/7000 [1:41:40<05:06,  1.35it/s]"
     ]
    },
    {
     "name": "stdout",
     "output_type": "stream",
     "text": [
      "Erreur sur le jeu https://store.steampowered.com/app/3125200/Maiden_Cops_Soundtrack/?snr=1_7_7_7000_150_264 : 'NoneType' object has no attribute 'findAll'\n"
     ]
    },
    {
     "name": "stderr",
     "output_type": "stream",
     "text": [
      "Scraping games:  94%|█████████▍| 6615/7000 [1:42:10<05:21,  1.20it/s]"
     ]
    },
    {
     "name": "stdout",
     "output_type": "stream",
     "text": [
      "Erreur sur le jeu https://store.steampowered.com/app/646780/Jalopy__Soundtrack/?snr=1_7_7_7000_150_265 : 'NoneType' object has no attribute 'findAll'\n"
     ]
    },
    {
     "name": "stderr",
     "output_type": "stream",
     "text": [
      "Scraping games:  95%|█████████▍| 6619/7000 [1:42:13<04:41,  1.35it/s]"
     ]
    },
    {
     "name": "stdout",
     "output_type": "stream",
     "text": [
      "Erreur sur le jeu https://store.steampowered.com/app/2344510/Pineapple_on_pizza_Soundtrack/?snr=1_7_7_7000_150_265 : 'NoneType' object has no attribute 'findAll'\n"
     ]
    },
    {
     "name": "stderr",
     "output_type": "stream",
     "text": [
      "Scraping games:  95%|█████████▍| 6627/7000 [1:42:19<04:17,  1.45it/s]"
     ]
    },
    {
     "name": "stdout",
     "output_type": "stream",
     "text": [
      "Erreur sur le jeu https://store.steampowered.com/app/2959690/Diplomacy_is_Not_an_Option_Soundtrack/?snr=1_7_7_7000_150_266 : 'NoneType' object has no attribute 'findAll'\n"
     ]
    },
    {
     "name": "stderr",
     "output_type": "stream",
     "text": [
      "Scraping games:  95%|█████████▍| 6641/7000 [1:42:31<04:31,  1.32it/s]"
     ]
    },
    {
     "name": "stdout",
     "output_type": "stream",
     "text": [
      "Erreur sur le jeu https://store.steampowered.com/app/1946040/Arise_A_Simple_Story__Soundtrack/?snr=1_7_7_7000_150_266 : 'NoneType' object has no attribute 'findAll'\n"
     ]
    },
    {
     "name": "stderr",
     "output_type": "stream",
     "text": [
      "Scraping games:  96%|█████████▌| 6689/7000 [1:43:15<03:54,  1.33it/s]"
     ]
    },
    {
     "name": "stdout",
     "output_type": "stream",
     "text": [
      "Erreur sur le jeu https://store.steampowered.com/app/1443660/Dead_Age_2_Original_Soundtrack/?snr=1_7_7_7000_150_268 : 'NoneType' object has no attribute 'findAll'\n"
     ]
    },
    {
     "name": "stderr",
     "output_type": "stream",
     "text": [
      "Scraping games:  96%|█████████▌| 6713/7000 [1:43:36<03:11,  1.50it/s]"
     ]
    },
    {
     "name": "stdout",
     "output_type": "stream",
     "text": [
      "Erreur sur le jeu https://store.steampowered.com/app/1415390/SpellForce_3_Fallen_God_Soundtrack/?snr=1_7_7_7000_150_269 : 'NoneType' object has no attribute 'findAll'\n"
     ]
    },
    {
     "name": "stderr",
     "output_type": "stream",
     "text": [
      "Scraping games:  97%|█████████▋| 6787/7000 [1:44:41<02:36,  1.36it/s]"
     ]
    },
    {
     "name": "stdout",
     "output_type": "stream",
     "text": [
      "Erreur sur le jeu https://store.steampowered.com/app/738711/Neverwinter_Nights_Premium_Adventures_Official_Soundtrack/?snr=1_7_7_7000_150_272 : 'NoneType' object has no attribute 'findAll'\n"
     ]
    },
    {
     "name": "stderr",
     "output_type": "stream",
     "text": [
      "Scraping games:  97%|█████████▋| 6791/7000 [1:44:44<02:45,  1.26it/s]"
     ]
    },
    {
     "name": "stdout",
     "output_type": "stream",
     "text": [
      "Erreur sur le jeu https://store.steampowered.com/app/590830/sbox/?snr=1_7_7_7000_150_272 : time data 'To be announced' does not match format '%d %b, %Y'\n"
     ]
    },
    {
     "name": "stderr",
     "output_type": "stream",
     "text": [
      "Scraping games:  98%|█████████▊| 6826/7000 [1:45:18<02:15,  1.28it/s]"
     ]
    },
    {
     "name": "stdout",
     "output_type": "stream",
     "text": [
      "Erreur sur le jeu https://store.steampowered.com/app/1834070/Fish_Story_Gourmet_Puzzle_Soundtrack/?snr=1_7_7_7000_150_274 : 'NoneType' object has no attribute 'findAll'\n"
     ]
    },
    {
     "name": "stderr",
     "output_type": "stream",
     "text": [
      "Scraping games:  98%|█████████▊| 6834/7000 [1:45:27<02:40,  1.03it/s]"
     ]
    },
    {
     "name": "stdout",
     "output_type": "stream",
     "text": [
      "Erreur sur le jeu https://store.steampowered.com/app/854961/Neverwinter_Nights_Darkness_Over_Daggerford_Official_Soundtrack/?snr=1_7_7_7000_150_274 : 'NoneType' object has no attribute 'findAll'\n"
     ]
    },
    {
     "name": "stderr",
     "output_type": "stream",
     "text": [
      "Scraping games:  98%|█████████▊| 6838/7000 [1:45:31<02:31,  1.07it/s]"
     ]
    },
    {
     "name": "stdout",
     "output_type": "stream",
     "text": [
      "Erreur sur le jeu https://store.steampowered.com/app/2248940/Read_Clock_Time_Soundtrack/?snr=1_7_7_7000_150_274 : 'NoneType' object has no attribute 'findAll'\n"
     ]
    },
    {
     "name": "stderr",
     "output_type": "stream",
     "text": [
      "Scraping games:  98%|█████████▊| 6850/7000 [1:45:38<01:28,  1.69it/s]"
     ]
    },
    {
     "name": "stdout",
     "output_type": "stream",
     "text": [
      "Erreur sur le jeu https://store.steampowered.com/app/1877810/Iron_Lung_Soundtrack/?snr=1_7_7_7000_150_274 : 'NoneType' object has no attribute 'findAll'\n"
     ]
    },
    {
     "name": "stderr",
     "output_type": "stream",
     "text": [
      "Scraping games: 100%|██████████| 7000/7000 [1:54:08<00:00,  1.02it/s]   \n"
     ]
    }
   ],
   "source": [
    "df = pd.DataFrame(columns=['gameId','Name', 'Price', 'Genres', 'Rating', 'hasDLC', 'inAppPurchases', 'Release Date', 'Multiplayer'])\n",
    "\n",
    "headers = {\"Accept-Language\": \"en-US\"}\n",
    "cookies = {\n",
    "    'birthtime': '568022401',\n",
    "    'lastagecheckage': '1-January-1988'\n",
    "}\n",
    "\n",
    "for i in tqdm(range(number_of_pages_scraped*25), desc=\"Scraping games\") :\n",
    "    try:\n",
    "        page = requests.get(links[i], headers=headers, cookies=cookies)\n",
    "        bs = BeautifulSoup(page.text, 'html.parser')\n",
    "\n",
    "        gameid = links[i].split('/')[4]\n",
    "\n",
    "        # Name\n",
    "        name_block = bs.find('div','apphub_AppName')\n",
    "        name = name_block.contents[0] if name_block else \"N/A\"\n",
    "\n",
    "        # Find genres\n",
    "        genreblock = bs.find('div','details_block')\n",
    "        title = genreblock.findAll('a')\n",
    "\n",
    "        genres = ['Simulation', 'Sports', 'Action', 'Adventure', 'RPG', 'Strategy', 'Sports', 'Racing', 'Indie',\n",
    "                'Free to Play', 'Massively Multiplayer', 'Casual', 'Early Access']\n",
    "        genre = []\n",
    "\n",
    "        for g in title:\n",
    "            if g.contents[0] in genres:\n",
    "                genre.append(g.contents[0])\n",
    "\n",
    "        # Find rating\n",
    "        rating = \"N/A\"\n",
    "\n",
    "        rating_block = bs.find('div', 'summary_section')\n",
    "        if rating_block:\n",
    "            rating_span = rating_block.findAll('span','game_review_summary')\n",
    "            rating = rating_span[0].contents[0]\n",
    "        \n",
    "        # Price\n",
    "        price = None\n",
    "        \n",
    "            # Case 1 : Discount\n",
    "        tr = bs.find('div', 'discount_original_price')\n",
    "        if tr:\n",
    "            price = tr.text.strip()\n",
    "\n",
    "            # Case 2 : No Discount\n",
    "        if not price:\n",
    "            no_disc = bs.find('div', 'game_purchase_price price')\n",
    "            if no_disc:\n",
    "                price = no_disc.text.strip()\n",
    "\n",
    "        # In-App Purchases\n",
    "        inAppPurchase = False\n",
    "\n",
    "        cat_block = bs.find('div', 'game_area_features_list_ctn')\n",
    "        categor = cat_block.findAll('a')\n",
    "        for cat in categor:\n",
    "            ok = cat.find('div', 'label')\n",
    "            if 'In-App Purchases' in ok.contents[0]:\n",
    "                inAppPurchase = True\n",
    "\n",
    "        # DLC\n",
    "        has_DLC = False\n",
    "\n",
    "        dlc = bs.find('div', 'game_area_dlc_section')\n",
    "        if dlc:\n",
    "            has_DLC = True\n",
    "\n",
    "        # Release Date\n",
    "        release_date = 'N/A'\n",
    "\n",
    "        release_date_block = bs.find('div', class_='release_date')\n",
    "        if release_date_block:\n",
    "            date_div = release_date_block.find('div', class_='date')\n",
    "            release_date = date_div.text.strip() if date_div else 'N/A'\n",
    "            release_date_obj = datetime.strptime(release_date, \"%d %b, %Y\")\n",
    "\n",
    "        # Multiplayer\n",
    "        tags = []\n",
    "        is_multiplayer = False\n",
    "\n",
    "        tag_block = bs.find_all('a', class_='app_tag')\n",
    "        tags = [tag.text.strip() for tag in tag_block if tag.text.strip()]\n",
    "        is_multiplayer = any(\"multiplayer\" in tag.lower() for tag in tags)\n",
    "\n",
    "        # Add row\n",
    "        row = {'gameId':[gameid],'Name':[name], 'Genres':[genre], 'Price':[price],'Rating':[rating], 'hasDLC':[has_DLC], \n",
    "            'inAppPurchases': [inAppPurchase], 'Release Date': [release_date_obj], 'Multiplayer': [is_multiplayer]}\n",
    "        df = pd.concat([df,pd.DataFrame(row)])\n",
    "\n",
    "        # Break\n",
    "        randsleep = uniform(0.0,0.6)\n",
    "        time.sleep(randsleep)\n",
    "\n",
    "        # Break every 100 requests\n",
    "        if (i + 1) % 100 == 0:\n",
    "            time.sleep(uniform(2, 5))\n",
    "\n",
    "    except Exception as e:\n",
    "        print(f\"Erreur sur le jeu {links[i]} : {e}\")\n",
    "\n",
    "df = df.reset_index(drop=True)"
   ]
  },
  {
   "cell_type": "code",
   "execution_count": 8,
   "id": "cdce6529-4ab0-4c51-9554-3b3f80739e6a",
   "metadata": {},
   "outputs": [
    {
     "data": {
      "text/html": [
       "<div>\n",
       "<style scoped>\n",
       "    .dataframe tbody tr th:only-of-type {\n",
       "        vertical-align: middle;\n",
       "    }\n",
       "\n",
       "    .dataframe tbody tr th {\n",
       "        vertical-align: top;\n",
       "    }\n",
       "\n",
       "    .dataframe thead th {\n",
       "        text-align: right;\n",
       "    }\n",
       "</style>\n",
       "<table border=\"1\" class=\"dataframe\">\n",
       "  <thead>\n",
       "    <tr style=\"text-align: right;\">\n",
       "      <th></th>\n",
       "      <th>gameId</th>\n",
       "      <th>Name</th>\n",
       "      <th>Price</th>\n",
       "      <th>Genres</th>\n",
       "      <th>Rating</th>\n",
       "      <th>hasDLC</th>\n",
       "      <th>inAppPurchases</th>\n",
       "      <th>Release Date</th>\n",
       "      <th>Multiplayer</th>\n",
       "    </tr>\n",
       "  </thead>\n",
       "  <tbody>\n",
       "    <tr>\n",
       "      <th>0</th>\n",
       "      <td>1903340</td>\n",
       "      <td>Clair Obscur: Expedition 33</td>\n",
       "      <td>67,48€</td>\n",
       "      <td>[Action, RPG]</td>\n",
       "      <td>Very Positive</td>\n",
       "      <td>True</td>\n",
       "      <td>False</td>\n",
       "      <td>2025-04-24</td>\n",
       "      <td>False</td>\n",
       "    </tr>\n",
       "    <tr>\n",
       "      <th>1</th>\n",
       "      <td>2993780</td>\n",
       "      <td>FANTASY LIFE i: The Girl Who Steals Time</td>\n",
       "      <td>59,99€</td>\n",
       "      <td>[RPG]</td>\n",
       "      <td>Very Positive</td>\n",
       "      <td>False</td>\n",
       "      <td>False</td>\n",
       "      <td>2025-05-21</td>\n",
       "      <td>True</td>\n",
       "    </tr>\n",
       "    <tr>\n",
       "      <th>2</th>\n",
       "      <td>730</td>\n",
       "      <td>Counter-Strike 2</td>\n",
       "      <td>Free To Play</td>\n",
       "      <td>[Action]</td>\n",
       "      <td>Very Positive</td>\n",
       "      <td>True</td>\n",
       "      <td>True</td>\n",
       "      <td>2012-08-21</td>\n",
       "      <td>True</td>\n",
       "    </tr>\n",
       "    <tr>\n",
       "      <th>3</th>\n",
       "      <td>1091500</td>\n",
       "      <td>Cyberpunk 2077</td>\n",
       "      <td>59,99€</td>\n",
       "      <td>[RPG]</td>\n",
       "      <td>Very Positive</td>\n",
       "      <td>True</td>\n",
       "      <td>False</td>\n",
       "      <td>2020-12-09</td>\n",
       "      <td>False</td>\n",
       "    </tr>\n",
       "    <tr>\n",
       "      <th>4</th>\n",
       "      <td>2488370</td>\n",
       "      <td>Cash Cleaner Simulator</td>\n",
       "      <td>14,79€</td>\n",
       "      <td>[Casual, Indie, Simulation]</td>\n",
       "      <td>Very Positive</td>\n",
       "      <td>True</td>\n",
       "      <td>False</td>\n",
       "      <td>2025-05-08</td>\n",
       "      <td>False</td>\n",
       "    </tr>\n",
       "  </tbody>\n",
       "</table>\n",
       "</div>"
      ],
      "text/plain": [
       "    gameId                                      Name         Price  \\\n",
       "0  1903340               Clair Obscur: Expedition 33        67,48€   \n",
       "1  2993780  FANTASY LIFE i: The Girl Who Steals Time        59,99€   \n",
       "2      730                          Counter-Strike 2  Free To Play   \n",
       "3  1091500                            Cyberpunk 2077        59,99€   \n",
       "4  2488370                    Cash Cleaner Simulator        14,79€   \n",
       "\n",
       "                        Genres         Rating hasDLC inAppPurchases  \\\n",
       "0                [Action, RPG]  Very Positive   True          False   \n",
       "1                        [RPG]  Very Positive  False          False   \n",
       "2                     [Action]  Very Positive   True           True   \n",
       "3                        [RPG]  Very Positive   True          False   \n",
       "4  [Casual, Indie, Simulation]  Very Positive   True          False   \n",
       "\n",
       "  Release Date Multiplayer  \n",
       "0   2025-04-24       False  \n",
       "1   2025-05-21        True  \n",
       "2   2012-08-21        True  \n",
       "3   2020-12-09       False  \n",
       "4   2025-05-08       False  "
      ]
     },
     "execution_count": 8,
     "metadata": {},
     "output_type": "execute_result"
    }
   ],
   "source": [
    "df.head()"
   ]
  },
  {
   "cell_type": "code",
   "execution_count": 9,
   "id": "87ffe1a0-adc1-4685-8484-9c47b7365d81",
   "metadata": {},
   "outputs": [],
   "source": [
    "df.to_csv('./gamelist4.csv')\n",
    "df.to_excel('./gamelist4.xlsx')"
   ]
  }
 ],
 "metadata": {
  "kernelspec": {
   "display_name": "Python 3",
   "language": "python",
   "name": "python3"
  },
  "language_info": {
   "codemirror_mode": {
    "name": "ipython",
    "version": 3
   },
   "file_extension": ".py",
   "mimetype": "text/x-python",
   "name": "python",
   "nbconvert_exporter": "python",
   "pygments_lexer": "ipython3",
   "version": "3.11.3"
  }
 },
 "nbformat": 4,
 "nbformat_minor": 5
}
