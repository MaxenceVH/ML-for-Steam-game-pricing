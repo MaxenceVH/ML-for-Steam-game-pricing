{
 "cells": [
  {
   "cell_type": "markdown",
   "id": "575741c2",
   "metadata": {},
   "source": [
    "## Preprocessing for data visualisation"
   ]
  },
  {
   "cell_type": "code",
   "execution_count": null,
   "id": "861ec92b",
   "metadata": {},
   "outputs": [],
   "source": [
    "import pandas as pd\n",
    "import matplotlib.pyplot as plt"
   ]
  }
 ],
 "metadata": {
  "language_info": {
   "name": "python"
  }
 },
 "nbformat": 4,
 "nbformat_minor": 5
}
