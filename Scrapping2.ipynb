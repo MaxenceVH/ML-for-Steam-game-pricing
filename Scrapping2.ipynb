{
 "cells": [
  {
   "cell_type": "code",
   "execution_count": 72,
   "id": "79931659-72c6-472f-8933-38e994dd3c79",
   "metadata": {},
   "outputs": [],
   "source": [
    "import requests\n",
    "import time\n",
    "import pandas as pd\n",
    "import re\n",
    "import json\n",
    "from bs4 import BeautifulSoup\n",
    "from random import uniform\n",
    "from datetime import datetime\n",
    "from tqdm import tqdm\n",
    "from IPython.display import clear_output"
   ]
  },
  {
   "cell_type": "markdown",
   "id": "3d744a77-e527-44d7-8522-9275c5827dd1",
   "metadata": {
    "tags": []
   },
   "source": [
    "## Scrapping of one game :"
   ]
  },
  {
   "cell_type": "code",
   "execution_count": 73,
   "id": "bbdeb7cf-ae4c-40b2-a834-479894e98f85",
   "metadata": {},
   "outputs": [
    {
     "name": "stdout",
     "output_type": "stream",
     "text": [
      "Counter-Strike 2\n",
      "Action\n",
      "Very Positive\n",
      "True\n",
      "True\n",
      "2012-08-21 00:00:00\n",
      "True\n"
     ]
    }
   ],
   "source": [
    "urls = 'https://store.steampowered.com/app/730/CounterStrike_Global_Offensive/'\n",
    "\n",
    "page = requests.get(urls, headers = {\"Accept-Language\": \"en-US\"})\n",
    "bs = BeautifulSoup(page.text, 'html.parser')\n",
    "# print(bs)\n",
    "\n",
    "# Find name\n",
    "name_block = bs.find('div','apphub_AppName')\n",
    "name = name_block.contents[0]\n",
    "print(name)\n",
    "\n",
    "# Find genres\n",
    "genreblock = bs.find('div','details_block')\n",
    "title = genreblock.findAll('a')\n",
    "\n",
    "genres = ['Simulation', 'Sports', 'Action', 'Adventure', 'RPG', 'Strategy', 'Sports', 'Racing', 'Indie',\n",
    "         'Free to Play', 'Massively Multiplayer', 'Casual', 'Early Access']\n",
    "\n",
    "genre = []\n",
    "\n",
    "for g in title:\n",
    "    if g.contents[0] in genres:\n",
    "        genre.append(g.contents[0])\n",
    "        print(g.contents[0])\n",
    "\n",
    "# Find rating\n",
    "rating_block = bs.find('div', 'summary_section')\n",
    "rating_span = rating_block.findAll('span','game_review_summary')\n",
    "rating = rating_span[0].contents[0]\n",
    "print(rating)\n",
    "\n",
    "\n",
    "# Price\n",
    "price = None\n",
    "\n",
    "    # Case 1 : Discount\n",
    "tr = bs.find('div', 'discount_original_price')\n",
    "if tr:\n",
    "    price = tr.text.strip()\n",
    "\n",
    "    # Case 2 : No Discount\n",
    "if not price:\n",
    "    no_disc = bs.find('div', 'game_purchase_price price')\n",
    "    if no_disc:\n",
    "        price = no_disc.text.strip()\n",
    "\n",
    "# In-App Purchases\n",
    "inAppPurchase = False\n",
    "\n",
    "cat_block = bs.find('div', 'game_area_features_list_ctn')\n",
    "categor = cat_block.findAll('a')\n",
    "for cat in categor:\n",
    "    ok = cat.find('div', 'label')\n",
    "    if 'In-App Purchases' in ok.contents[0]:\n",
    "        inAppPurchase = True\n",
    "print(inAppPurchase)\n",
    "\n",
    "# DLC\n",
    "has_DLC = False\n",
    "\n",
    "dlc = bs.find('div', 'game_area_dlc_section')\n",
    "if dlc:\n",
    "    has_DLC = True\n",
    "print(has_DLC)\n",
    "\n",
    "# Release Date\n",
    "release_date = 'N/A'\n",
    "\n",
    "release_date_block = bs.find('div', class_='release_date')\n",
    "if release_date_block:\n",
    "    date_div = release_date_block.find('div', class_='date')\n",
    "    release_date = date_div.text.strip() if date_div else 'N/A'\n",
    "    release_date_obj = datetime.strptime(release_date, \"%d %b, %Y\")\n",
    "print(release_date_obj)\n",
    "\n",
    "# Multiplayer\n",
    "tags = []\n",
    "is_multiplayer = False\n",
    "\n",
    "tag_block = bs.find_all('a', class_='app_tag')\n",
    "tags = [tag.text.strip() for tag in tag_block if tag.text.strip()]\n",
    "is_multiplayer = any(\"multiplayer\" in tag.lower() for tag in tags)\n",
    "print(is_multiplayer)"
   ]
  },
  {
   "cell_type": "markdown",
   "id": "681e3dea-6fd1-4995-a3a1-36000e3e9b2b",
   "metadata": {
    "tags": []
   },
   "source": [
    "## Scraping most sold games"
   ]
  },
  {
   "cell_type": "markdown",
   "id": "7a1caf86",
   "metadata": {},
   "source": [
    "Each page contains 25 games."
   ]
  },
  {
   "cell_type": "code",
   "execution_count": 77,
   "id": "7b9aa88e",
   "metadata": {},
   "outputs": [],
   "source": [
    "number_of_pages_scraped = 261"
   ]
  },
  {
   "cell_type": "code",
   "execution_count": 78,
   "id": "1228fdc6-bcf6-4066-8f6b-0195dc8af8c3",
   "metadata": {},
   "outputs": [
    {
     "name": "stderr",
     "output_type": "stream",
     "text": [
      "Scraping pages: 100%|██████████| 261/261 [05:24<00:00,  1.24s/it]\n"
     ]
    }
   ],
   "source": [
    "links = []\n",
    "\n",
    "for i in tqdm(range(1, number_of_pages_scraped + 1), desc=\"Scraping pages\") :\n",
    "    url = 'https://store.steampowered.com/search/?sort_by=&sort_order=0&filter=topsellers&supportedlang=english&page=' + str(i)\n",
    "\n",
    "    page = requests.get(url, headers = {\"Accept-Language\": \"en-US\"})\n",
    "    bs = BeautifulSoup(page.text, 'html.parser')\n",
    "    games = bs.find('div', 'search_results')\n",
    "    game_list = games.findAll('a')\n",
    "\n",
    "    for j in range(25):\n",
    "        links.append(game_list[j]['href'])\n",
    "    randsleep = uniform(0.0,0.7)\n",
    "    time.sleep(randsleep)"
   ]
  },
  {
   "cell_type": "code",
   "execution_count": 79,
   "id": "291dea6d-738e-4400-be19-2e7373a2c1e4",
   "metadata": {},
   "outputs": [
    {
     "name": "stderr",
     "output_type": "stream",
     "text": [
      "Scraping games:   0%|          | 0/6525 [00:00<?, ?it/s]C:\\Users\\maxen\\AppData\\Local\\Temp\\ipykernel_23392\\113701633.py:91: FutureWarning: The behavior of DataFrame concatenation with empty or all-NA entries is deprecated. In a future version, this will no longer exclude empty or all-NA columns when determining the result dtypes. To retain the old behavior, exclude the relevant entries before the concat operation.\n",
      "  df = pd.concat([df,pd.DataFrame(row)])\n",
      "Scraping games:   0%|          | 5/6525 [00:04<1:28:50,  1.22it/s]"
     ]
    },
    {
     "name": "stdout",
     "output_type": "stream",
     "text": [
      "Erreur sur le jeu https://store.steampowered.com/app/1675200/Steam_Deck/?snr=1_7_7_7000_150_1 : 'NoneType' object has no attribute 'findAll'\n"
     ]
    },
    {
     "name": "stderr",
     "output_type": "stream",
     "text": [
      "Scraping games:   3%|▎         | 193/6525 [03:08<1:20:06,  1.32it/s]"
     ]
    },
    {
     "name": "stdout",
     "output_type": "stream",
     "text": [
      "Erreur sur le jeu https://store.steampowered.com/app/1696780/Steam_Deck_Docking_Station/?snr=1_7_7_7000_150_8 : 'NoneType' object has no attribute 'findAll'\n"
     ]
    },
    {
     "name": "stderr",
     "output_type": "stream",
     "text": [
      "Scraping games:  10%|▉         | 641/6525 [10:22<1:46:59,  1.09s/it]"
     ]
    },
    {
     "name": "stdout",
     "output_type": "stream",
     "text": [
      "Erreur sur le jeu https://store.steampowered.com/app/3240070/The_Precinct_Soundtrack/?snr=1_7_7_7000_150_26 : 'NoneType' object has no attribute 'findAll'\n"
     ]
    },
    {
     "name": "stderr",
     "output_type": "stream",
     "text": [
      "Scraping games:  19%|█▉        | 1259/6525 [20:48<1:16:33,  1.15it/s]"
     ]
    },
    {
     "name": "stdout",
     "output_type": "stream",
     "text": [
      "Erreur sur le jeu https://store.steampowered.com/app/3673260/Tower_Dominion__Soundtrack/?snr=1_7_7_7000_150_51 : 'NoneType' object has no attribute 'findAll'\n"
     ]
    },
    {
     "name": "stderr",
     "output_type": "stream",
     "text": [
      "Scraping games:  26%|██▌       | 1672/6525 [27:30<55:38,  1.45it/s]  "
     ]
    },
    {
     "name": "stdout",
     "output_type": "stream",
     "text": [
      "Erreur sur le jeu https://store.steampowered.com/app/3179550/REKA_Soundtrack/?snr=1_7_7_7000_150_67 : 'NoneType' object has no attribute 'findAll'\n"
     ]
    },
    {
     "name": "stderr",
     "output_type": "stream",
     "text": [
      "Scraping games:  31%|███       | 2014/6525 [33:02<1:04:58,  1.16it/s]"
     ]
    },
    {
     "name": "stdout",
     "output_type": "stream",
     "text": [
      "Erreur sur le jeu https://store.steampowered.com/app/1110800/The_Slormancer__Original_Soundtrack/?snr=1_7_7_7000_150_81 : 'NoneType' object has no attribute 'findAll'\n"
     ]
    },
    {
     "name": "stderr",
     "output_type": "stream",
     "text": [
      "Scraping games:  33%|███▎      | 2133/6525 [34:50<55:48,  1.31it/s]  "
     ]
    },
    {
     "name": "stdout",
     "output_type": "stream",
     "text": [
      "Erreur sur le jeu https://store.steampowered.com/app/3153150/Crime_Scene_Cleaner_Soundtrack/?snr=1_7_7_7000_150_86 : 'NoneType' object has no attribute 'findAll'\n"
     ]
    },
    {
     "name": "stderr",
     "output_type": "stream",
     "text": [
      "Scraping games:  33%|███▎      | 2176/6525 [35:34<52:39,  1.38it/s]  "
     ]
    },
    {
     "name": "stdout",
     "output_type": "stream",
     "text": [
      "Erreur sur le jeu https://store.steampowered.com/app/3424590/Jotunnslayer_Hordes_of_Hel_Soundtrack/?snr=1_7_7_7000_150_88 : 'NoneType' object has no attribute 'findAll'\n"
     ]
    },
    {
     "name": "stderr",
     "output_type": "stream",
     "text": [
      "Scraping games:  34%|███▍      | 2233/6525 [36:30<1:00:59,  1.17it/s]"
     ]
    },
    {
     "name": "stdout",
     "output_type": "stream",
     "text": [
      "Erreur sur le jeu https://store.steampowered.com/app/3660300/Cash_Cleaner_Simulator__Soundtrack/?snr=1_7_7_7000_150_90 : 'NoneType' object has no attribute 'findAll'\n"
     ]
    },
    {
     "name": "stderr",
     "output_type": "stream",
     "text": [
      "Scraping games:  36%|███▌      | 2351/6525 [38:24<50:14,  1.38it/s]  "
     ]
    },
    {
     "name": "stdout",
     "output_type": "stream",
     "text": [
      "Erreur sur le jeu https://store.steampowered.com/app/2722240/Survival_Fountain_of_Youth_Supporter_Pack/?snr=1_7_7_7000_150_95 : 'NoneType' object has no attribute 'findAll'\n"
     ]
    },
    {
     "name": "stderr",
     "output_type": "stream",
     "text": [
      "Scraping games:  40%|███▉      | 2601/6525 [42:23<1:45:26,  1.61s/it]"
     ]
    },
    {
     "name": "stdout",
     "output_type": "stream",
     "text": [
      "Erreur sur le jeu https://store.steampowered.com/app/2468260/Fae_Farm__Official_Soundtrack/?snr=1_7_7_7000_150_105 : 'NoneType' object has no attribute 'findAll'\n"
     ]
    },
    {
     "name": "stderr",
     "output_type": "stream",
     "text": [
      "Scraping games:  41%|████      | 2660/6525 [43:19<58:39,  1.10it/s]  "
     ]
    },
    {
     "name": "stdout",
     "output_type": "stream",
     "text": [
      "Erreur sur le jeu https://store.steampowered.com/app/2788410/1000xRESIST_Soundtrack/?snr=1_7_7_7000_150_107 : 'NoneType' object has no attribute 'findAll'\n"
     ]
    },
    {
     "name": "stderr",
     "output_type": "stream",
     "text": [
      "Scraping games:  41%|████      | 2682/6525 [43:39<44:53,  1.43it/s]  "
     ]
    },
    {
     "name": "stdout",
     "output_type": "stream",
     "text": [
      "Erreur sur le jeu https://store.steampowered.com/app/2169090/Vampire_Survivors_Soundtrack/?snr=1_7_7_7000_150_108 : 'NoneType' object has no attribute 'findAll'\n"
     ]
    },
    {
     "name": "stderr",
     "output_type": "stream",
     "text": [
      "Scraping games:  45%|████▍     | 2925/6525 [47:47<55:51,  1.07it/s]  "
     ]
    },
    {
     "name": "stdout",
     "output_type": "stream",
     "text": [
      "Erreur sur le jeu https://store.steampowered.com/app/3241400/The_Nameless_Slay_Dragon_Original_Soundtrack/?snr=1_7_7_7000_150_117 : 'NoneType' object has no attribute 'findAll'\n"
     ]
    },
    {
     "name": "stderr",
     "output_type": "stream",
     "text": [
      "Scraping games:  45%|████▌     | 2967/6525 [48:27<45:38,  1.30it/s]  "
     ]
    },
    {
     "name": "stdout",
     "output_type": "stream",
     "text": [
      "Erreur sur le jeu https://store.steampowered.com/app/3088930/Star_Trucker__Official_Game_Soundtrack/?snr=1_7_7_7000_150_119 : 'NoneType' object has no attribute 'findAll'\n"
     ]
    },
    {
     "name": "stderr",
     "output_type": "stream",
     "text": [
      "Scraping games:  46%|████▋     | 3019/6525 [49:19<49:43,  1.18it/s]  "
     ]
    },
    {
     "name": "stdout",
     "output_type": "stream",
     "text": [
      "Erreur sur le jeu https://store.steampowered.com/app/315960/Plague_Inc_Evolved_Soundtrack/?snr=1_7_7_7000_150_121 : 'NoneType' object has no attribute 'findAll'\n"
     ]
    },
    {
     "name": "stderr",
     "output_type": "stream",
     "text": [
      "Scraping games:  46%|████▋     | 3033/6525 [49:31<38:51,  1.50it/s]  "
     ]
    },
    {
     "name": "stdout",
     "output_type": "stream",
     "text": [
      "Erreur sur le jeu https://store.steampowered.com/app/3226080/Tiny_Glade_Soundtrack/?snr=1_7_7_7000_150_122 : 'NoneType' object has no attribute 'findAll'\n"
     ]
    },
    {
     "name": "stderr",
     "output_type": "stream",
     "text": [
      "Scraping games:  48%|████▊     | 3122/6525 [51:00<52:17,  1.08it/s]  "
     ]
    },
    {
     "name": "stdout",
     "output_type": "stream",
     "text": [
      "Erreur sur le jeu https://store.steampowered.com/app/3267950/Citadelum_Original_Soundtrack/?snr=1_7_7_7000_150_125 : 'NoneType' object has no attribute 'findAll'\n"
     ]
    },
    {
     "name": "stderr",
     "output_type": "stream",
     "text": [
      "Scraping games:  49%|████▉     | 3214/6525 [52:38<41:24,  1.33it/s]  "
     ]
    },
    {
     "name": "stdout",
     "output_type": "stream",
     "text": [
      "Erreur sur le jeu https://store.steampowered.com/app/3199160/Ale__Tale_Tavern_Soundtrack/?snr=1_7_7_7000_150_129 : 'NoneType' object has no attribute 'findAll'\n"
     ]
    },
    {
     "name": "stderr",
     "output_type": "stream",
     "text": [
      "Scraping games:  49%|████▉     | 3227/6525 [52:50<43:47,  1.26it/s]"
     ]
    },
    {
     "name": "stdout",
     "output_type": "stream",
     "text": [
      "Erreur sur le jeu https://store.steampowered.com/app/536520/Owlboy__Soundtrack/?snr=1_7_7_7000_150_130 : 'NoneType' object has no attribute 'findAll'\n"
     ]
    },
    {
     "name": "stderr",
     "output_type": "stream",
     "text": [
      "Scraping games:  51%|█████     | 3302/6525 [54:08<1:21:36,  1.52s/it]"
     ]
    },
    {
     "name": "stdout",
     "output_type": "stream",
     "text": [
      "Erreur sur le jeu https://store.steampowered.com/app/2497620/Shadows_of_Doubt_Soundtrack/?snr=1_7_7_7000_150_133 : 'NoneType' object has no attribute 'findAll'\n"
     ]
    },
    {
     "name": "stderr",
     "output_type": "stream",
     "text": [
      "Scraping games:  51%|█████▏    | 3360/6525 [55:03<48:07,  1.10it/s]  "
     ]
    },
    {
     "name": "stdout",
     "output_type": "stream",
     "text": [
      "Erreur sur le jeu https://store.steampowered.com/app/2427743/Cities_Skylines_II__Bridges__Ports/?snr=1_7_7_7000_150_135 : time data 'Q2 2025' does not match format '%d %b, %Y'\n"
     ]
    },
    {
     "name": "stderr",
     "output_type": "stream",
     "text": [
      "Scraping games:  54%|█████▍    | 3524/6525 [58:05<44:18,  1.13it/s]  "
     ]
    },
    {
     "name": "stdout",
     "output_type": "stream",
     "text": [
      "Erreur sur le jeu https://store.steampowered.com/app/221001/FTL_Faster_Than_Light__Soundtrack/?snr=1_7_7_7000_150_141 : 'NoneType' object has no attribute 'findAll'\n"
     ]
    },
    {
     "name": "stderr",
     "output_type": "stream",
     "text": [
      "Scraping games:  55%|█████▍    | 3585/6525 [59:02<35:59,  1.36it/s]  "
     ]
    },
    {
     "name": "stdout",
     "output_type": "stream",
     "text": [
      "Erreur sur le jeu https://store.steampowered.com/app/1946690/TOMOMI_Soundtrack/?snr=1_7_7_7000_150_144 : 'NoneType' object has no attribute 'findAll'\n"
     ]
    },
    {
     "name": "stderr",
     "output_type": "stream",
     "text": [
      "Scraping games:  55%|█████▍    | 3586/6525 [59:02<31:00,  1.58it/s]"
     ]
    },
    {
     "name": "stdout",
     "output_type": "stream",
     "text": [
      "Erreur sur le jeu https://store.steampowered.com/app/2427746/Cities_Skylines_II__Cold_Wave_Channel/?snr=1_7_7_7000_150_144 : time data 'Q2 2025' does not match format '%d %b, %Y'\n"
     ]
    },
    {
     "name": "stderr",
     "output_type": "stream",
     "text": [
      "Scraping games:  59%|█████▉    | 3842/6525 [1:03:16<34:30,  1.30it/s]  "
     ]
    },
    {
     "name": "stdout",
     "output_type": "stream",
     "text": [
      "Erreur sur le jeu https://store.steampowered.com/app/2983750/Republic_of_Pirates__Original_Soundtrack/?snr=1_7_7_7000_150_154 : 'NoneType' object has no attribute 'findAll'\n"
     ]
    },
    {
     "name": "stderr",
     "output_type": "stream",
     "text": [
      "Scraping games:  61%|██████    | 3948/6525 [1:05:01<36:27,  1.18it/s]  "
     ]
    },
    {
     "name": "stdout",
     "output_type": "stream",
     "text": [
      "Erreur sur le jeu https://store.steampowered.com/app/3214940/SpellForce_Conquest_of_Eo_Soundtrack/?snr=1_7_7_7000_150_158 : 'NoneType' object has no attribute 'findAll'\n"
     ]
    },
    {
     "name": "stderr",
     "output_type": "stream",
     "text": [
      "Scraping games:  61%|██████    | 3970/6525 [1:05:25<42:35,  1.00s/it]  "
     ]
    },
    {
     "name": "stdout",
     "output_type": "stream",
     "text": [
      "Erreur sur le jeu https://store.steampowered.com/app/3450500/Tiny_Garden_Soundtrack/?snr=1_7_7_7000_150_159 : 'NoneType' object has no attribute 'findAll'\n"
     ]
    },
    {
     "name": "stderr",
     "output_type": "stream",
     "text": [
      "Scraping games:  63%|██████▎   | 4133/6525 [1:09:45<1:29:09,  2.24s/it]"
     ]
    },
    {
     "name": "stdout",
     "output_type": "stream",
     "text": [
      "Erreur sur le jeu https://store.steampowered.com/app/390580/Spookys_Jump_Scare_Mansion__OST/?snr=1_7_7_7000_150_166 : 'NoneType' object has no attribute 'findAll'\n"
     ]
    },
    {
     "name": "stderr",
     "output_type": "stream",
     "text": [
      "Scraping games:  64%|██████▍   | 4164/6525 [1:10:47<1:36:25,  2.45s/it]"
     ]
    },
    {
     "name": "stdout",
     "output_type": "stream",
     "text": [
      "Erreur sur le jeu https://store.steampowered.com/app/2901220/Palia_Original_Soundtrack/?snr=1_7_7_7000_150_167 : 'NoneType' object has no attribute 'findAll'\n"
     ]
    },
    {
     "name": "stderr",
     "output_type": "stream",
     "text": [
      "Scraping games:  66%|██████▌   | 4289/6525 [1:13:56<37:06,  1.00it/s]  "
     ]
    },
    {
     "name": "stdout",
     "output_type": "stream",
     "text": [
      "Erreur sur le jeu https://store.steampowered.com/app/3202590/The_Forever_Winter_Soundtrack/?snr=1_7_7_7000_150_172 : 'NoneType' object has no attribute 'findAll'\n"
     ]
    },
    {
     "name": "stderr",
     "output_type": "stream",
     "text": [
      "Scraping games:  68%|██████▊   | 4463/6525 [1:17:47<27:22,  1.26it/s]  "
     ]
    },
    {
     "name": "stdout",
     "output_type": "stream",
     "text": [
      "Erreur sur le jeu https://store.steampowered.com/app/2959930/Besiege_Original_Soundtrack/?snr=1_7_7_7000_150_179 : 'NoneType' object has no attribute 'findAll'\n"
     ]
    },
    {
     "name": "stderr",
     "output_type": "stream",
     "text": [
      "Scraping games:  69%|██████▊   | 4474/6525 [1:17:58<31:48,  1.07it/s]"
     ]
    },
    {
     "name": "stdout",
     "output_type": "stream",
     "text": [
      "Erreur sur le jeu https://store.steampowered.com/app/1279740/Desperados_III_Soundtrack/?snr=1_7_7_7000_150_179 : 'NoneType' object has no attribute 'findAll'\n"
     ]
    },
    {
     "name": "stderr",
     "output_type": "stream",
     "text": [
      "Scraping games:  71%|███████   | 4613/6525 [1:20:14<20:27,  1.56it/s]"
     ]
    },
    {
     "name": "stdout",
     "output_type": "stream",
     "text": [
      "Erreur sur le jeu https://store.steampowered.com/app/1266760/Battlefleet_Gothic_Armada__Soundtrack/?snr=1_7_7_7000_150_185 : 'NoneType' object has no attribute 'findAll'\n"
     ]
    },
    {
     "name": "stderr",
     "output_type": "stream",
     "text": [
      "Scraping games:  72%|███████▏  | 4700/6525 [1:21:35<23:47,  1.28it/s]"
     ]
    },
    {
     "name": "stdout",
     "output_type": "stream",
     "text": [
      "Erreur sur le jeu https://store.steampowered.com/app/2133410/The_Chant_Soundtrack/?snr=1_7_7_7000_150_188 : 'NoneType' object has no attribute 'findAll'\n"
     ]
    },
    {
     "name": "stderr",
     "output_type": "stream",
     "text": [
      "Scraping games:  73%|███████▎  | 4764/6525 [1:22:35<21:22,  1.37it/s]"
     ]
    },
    {
     "name": "stdout",
     "output_type": "stream",
     "text": [
      "Erreur sur le jeu https://store.steampowered.com/app/1620250/Valheim_Soundtrack/?snr=1_7_7_7000_150_191 : 'NoneType' object has no attribute 'findAll'\n"
     ]
    },
    {
     "name": "stderr",
     "output_type": "stream",
     "text": [
      "Scraping games:  74%|███████▍  | 4820/6525 [1:23:30<22:54,  1.24it/s]  "
     ]
    },
    {
     "name": "stdout",
     "output_type": "stream",
     "text": [
      "Erreur sur le jeu https://store.steampowered.com/app/1970200/Total_War_THREE_KINGDOMS__Original_Soundtrack/?snr=1_7_7_7000_150_193 : 'NoneType' object has no attribute 'findAll'\n"
     ]
    },
    {
     "name": "stderr",
     "output_type": "stream",
     "text": [
      "Scraping games:  75%|███████▍  | 4879/6525 [1:24:26<22:29,  1.22it/s]"
     ]
    },
    {
     "name": "stdout",
     "output_type": "stream",
     "text": [
      "Erreur sur le jeu https://store.steampowered.com/app/2150000/Dome_Keeper_Soundtrack/?snr=1_7_7_7000_150_196 : 'NoneType' object has no attribute 'findAll'\n"
     ]
    },
    {
     "name": "stderr",
     "output_type": "stream",
     "text": [
      "Scraping games:  75%|███████▌  | 4921/6525 [1:25:10<22:23,  1.19it/s]"
     ]
    },
    {
     "name": "stdout",
     "output_type": "stream",
     "text": [
      "Erreur sur le jeu https://store.steampowered.com/app/3212270/Selfloss_Soundtrack/?snr=1_7_7_7000_150_197 : 'NoneType' object has no attribute 'findAll'\n"
     ]
    },
    {
     "name": "stderr",
     "output_type": "stream",
     "text": [
      "Scraping games:  77%|███████▋  | 5054/6525 [1:27:18<20:00,  1.22it/s]"
     ]
    },
    {
     "name": "stdout",
     "output_type": "stream",
     "text": [
      "Erreur sur le jeu https://store.steampowered.com/app/365380/Battle_Brothers__Soundtrack/?snr=1_7_7_7000_150_203 : 'NoneType' object has no attribute 'findAll'\n"
     ]
    },
    {
     "name": "stderr",
     "output_type": "stream",
     "text": [
      "Scraping games:  77%|███████▋  | 5056/6525 [1:27:19<17:00,  1.44it/s]"
     ]
    },
    {
     "name": "stdout",
     "output_type": "stream",
     "text": [
      "Erreur sur le jeu https://store.steampowered.com/app/1323320/Terraria_Otherworld_Official_Soundtrack/?snr=1_7_7_7000_150_203 : 'NoneType' object has no attribute 'findAll'\n"
     ]
    },
    {
     "name": "stderr",
     "output_type": "stream",
     "text": [
      "Scraping games:  78%|███████▊  | 5096/6525 [1:27:55<18:57,  1.26it/s]"
     ]
    },
    {
     "name": "stdout",
     "output_type": "stream",
     "text": [
      "Erreur sur le jeu https://store.steampowered.com/app/3198160/Wild_Bastards_Soundtrack/?snr=1_7_7_7000_150_204 : 'NoneType' object has no attribute 'findAll'\n"
     ]
    },
    {
     "name": "stderr",
     "output_type": "stream",
     "text": [
      "Scraping games:  78%|███████▊  | 5116/6525 [1:28:16<19:22,  1.21it/s]"
     ]
    },
    {
     "name": "stdout",
     "output_type": "stream",
     "text": [
      "Erreur sur le jeu https://store.steampowered.com/app/1347740/The_House_of_Da_Vinci_Soundtrack/?snr=1_7_7_7000_150_205 : 'NoneType' object has no attribute 'findAll'\n"
     ]
    },
    {
     "name": "stderr",
     "output_type": "stream",
     "text": [
      "Scraping games:  79%|███████▉  | 5153/6525 [1:28:48<18:18,  1.25it/s]"
     ]
    },
    {
     "name": "stdout",
     "output_type": "stream",
     "text": [
      "Erreur sur le jeu https://store.steampowered.com/app/2198580/DREDGE__Original_Soundtrack/?snr=1_7_7_7000_150_207 : 'NoneType' object has no attribute 'findAll'\n"
     ]
    },
    {
     "name": "stderr",
     "output_type": "stream",
     "text": [
      "Scraping games:  80%|███████▉  | 5200/6525 [1:29:29<16:32,  1.33it/s]"
     ]
    },
    {
     "name": "stdout",
     "output_type": "stream",
     "text": [
      "Erreur sur le jeu https://store.steampowered.com/app/2986530/Farm_Manager_World_Soundtrack/?snr=1_7_7_7000_150_208 : 'NoneType' object has no attribute 'findAll'\n"
     ]
    },
    {
     "name": "stderr",
     "output_type": "stream",
     "text": [
      "Scraping games:  82%|████████▏ | 5374/6525 [1:32:16<17:08,  1.12it/s]"
     ]
    },
    {
     "name": "stdout",
     "output_type": "stream",
     "text": [
      "Erreur sur le jeu https://store.steampowered.com/app/457840/Enter_the_Gungeon__Soundtrack/?snr=1_7_7_7000_150_215 : 'NoneType' object has no attribute 'findAll'\n"
     ]
    },
    {
     "name": "stderr",
     "output_type": "stream",
     "text": [
      "Scraping games:  83%|████████▎ | 5405/6525 [1:32:48<17:25,  1.07it/s]"
     ]
    },
    {
     "name": "stdout",
     "output_type": "stream",
     "text": [
      "Erreur sur le jeu https://store.steampowered.com/app/1830310/No_Plan_B__Soundtrack/?snr=1_7_7_7000_150_217 : 'NoneType' object has no attribute 'findAll'\n"
     ]
    },
    {
     "name": "stderr",
     "output_type": "stream",
     "text": [
      "Scraping games:  85%|████████▌ | 5551/6525 [1:37:08<12:57,  1.25it/s]   "
     ]
    },
    {
     "name": "stdout",
     "output_type": "stream",
     "text": [
      "Erreur sur le jeu https://store.steampowered.com/app/3228750/PICO_PARK_2_Soundtrack/?snr=1_7_7_7000_150_223 : 'NoneType' object has no attribute 'findAll'\n"
     ]
    },
    {
     "name": "stderr",
     "output_type": "stream",
     "text": [
      "Scraping games:  89%|████████▊ | 5776/6525 [1:40:54<09:46,  1.28it/s]"
     ]
    },
    {
     "name": "stdout",
     "output_type": "stream",
     "text": [
      "Erreur sur le jeu https://store.steampowered.com/app/1646370/PICO_PARK_Soundtrack/?snr=1_7_7_7000_150_232 : 'NoneType' object has no attribute 'findAll'\n"
     ]
    },
    {
     "name": "stderr",
     "output_type": "stream",
     "text": [
      "Scraping games:  89%|████████▉ | 5815/6525 [1:41:31<08:35,  1.38it/s]"
     ]
    },
    {
     "name": "stdout",
     "output_type": "stream",
     "text": [
      "Erreur sur le jeu https://store.steampowered.com/app/3575860/Soulmask_original_game_soundtrack/?snr=1_7_7_7000_150_233 : 'NoneType' object has no attribute 'findAll'\n"
     ]
    },
    {
     "name": "stderr",
     "output_type": "stream",
     "text": [
      "Scraping games:  89%|████████▉ | 5837/6525 [1:41:52<08:51,  1.29it/s]"
     ]
    },
    {
     "name": "stdout",
     "output_type": "stream",
     "text": [
      "Erreur sur le jeu https://store.steampowered.com/app/1252080/Yes_Your_Grace_Soundtrack/?snr=1_7_7_7000_150_234 : 'NoneType' object has no attribute 'findAll'\n"
     ]
    },
    {
     "name": "stderr",
     "output_type": "stream",
     "text": [
      "Scraping games:  90%|████████▉ | 5843/6525 [1:41:57<08:42,  1.31it/s]"
     ]
    },
    {
     "name": "stdout",
     "output_type": "stream",
     "text": [
      "Erreur sur le jeu https://store.steampowered.com/app/1250110/Sherlock_Holmes_Franchise_Classic_Soundtrack/?snr=1_7_7_7000_150_234 : 'NoneType' object has no attribute 'findAll'\n"
     ]
    },
    {
     "name": "stderr",
     "output_type": "stream",
     "text": [
      "Scraping games:  90%|█████████ | 5884/6525 [1:42:33<09:41,  1.10it/s]"
     ]
    },
    {
     "name": "stdout",
     "output_type": "stream",
     "text": [
      "Erreur sur le jeu https://store.steampowered.com/app/1250710/Frogwares_Games_Classic_Soundtrack/?snr=1_7_7_7000_150_236 : 'NoneType' object has no attribute 'findAll'\n"
     ]
    },
    {
     "name": "stderr",
     "output_type": "stream",
     "text": [
      "Scraping games:  90%|█████████ | 5885/6525 [1:42:33<08:38,  1.23it/s]"
     ]
    },
    {
     "name": "stdout",
     "output_type": "stream",
     "text": [
      "Erreur sur le jeu https://store.steampowered.com/app/1252260/Sherlock_Holmes_Franchise_Modern_Soundtrack/?snr=1_7_7_7000_150_236 : 'NoneType' object has no attribute 'findAll'\n"
     ]
    },
    {
     "name": "stderr",
     "output_type": "stream",
     "text": [
      "Scraping games:  91%|█████████ | 5919/6525 [1:43:07<07:28,  1.35it/s]"
     ]
    },
    {
     "name": "stdout",
     "output_type": "stream",
     "text": [
      "Erreur sur le jeu https://store.steampowered.com/app/2541700/Mystery_Box_Evolution_Soundtrack/?snr=1_7_7_7000_150_237 : 'NoneType' object has no attribute 'findAll'\n"
     ]
    },
    {
     "name": "stderr",
     "output_type": "stream",
     "text": [
      "Scraping games:  92%|█████████▏| 5977/6525 [1:44:03<10:19,  1.13s/it]"
     ]
    },
    {
     "name": "stdout",
     "output_type": "stream",
     "text": [
      "Erreur sur le jeu https://store.steampowered.com/app/570930/Redout__Soundtrack/?snr=1_7_7_7000_150_240 : 'NoneType' object has no attribute 'findAll'\n"
     ]
    },
    {
     "name": "stderr",
     "output_type": "stream",
     "text": [
      "Scraping games:  93%|█████████▎| 6066/6525 [1:45:27<06:25,  1.19it/s]"
     ]
    },
    {
     "name": "stdout",
     "output_type": "stream",
     "text": [
      "Erreur sur le jeu https://store.steampowered.com/app/2663940/Alien_Girls_Soundtrack/?snr=1_7_7_7000_150_243 : 'NoneType' object has no attribute 'findAll'\n"
     ]
    },
    {
     "name": "stderr",
     "output_type": "stream",
     "text": [
      "Scraping games:  95%|█████████▍| 6192/6525 [1:47:33<04:59,  1.11it/s]"
     ]
    },
    {
     "name": "stdout",
     "output_type": "stream",
     "text": [
      "Erreur sur le jeu https://store.steampowered.com/app/1707340/Song_of_Farca_Original_Soundtrack/?snr=1_7_7_7000_150_248 : 'NoneType' object has no attribute 'findAll'\n"
     ]
    },
    {
     "name": "stderr",
     "output_type": "stream",
     "text": [
      "Scraping games:  95%|█████████▍| 6194/6525 [1:47:34<04:15,  1.29it/s]"
     ]
    },
    {
     "name": "stdout",
     "output_type": "stream",
     "text": [
      "Erreur sur le jeu https://store.steampowered.com/app/1415390/SpellForce_3_Fallen_God_Soundtrack/?snr=1_7_7_7000_150_248 : 'NoneType' object has no attribute 'findAll'\n"
     ]
    },
    {
     "name": "stderr",
     "output_type": "stream",
     "text": [
      "Scraping games:  96%|█████████▌| 6248/6525 [1:48:26<03:55,  1.18it/s]"
     ]
    },
    {
     "name": "stdout",
     "output_type": "stream",
     "text": [
      "Erreur sur le jeu https://store.steampowered.com/app/856840/FRAMED_Collection__The_Original_Soundtrack/?snr=1_7_7_7000_150_250 : 'NoneType' object has no attribute 'findAll'\n"
     ]
    },
    {
     "name": "stderr",
     "output_type": "stream",
     "text": [
      "Scraping games:  96%|█████████▌| 6256/6525 [1:48:33<03:10,  1.41it/s]"
     ]
    },
    {
     "name": "stdout",
     "output_type": "stream",
     "text": [
      "Erreur sur le jeu https://store.steampowered.com/app/1263830/SpongeBob_SquarePants_Battle_for_Bikini_Bottom__Rehydrated_Soundtrack/?snr=1_7_7_7000_150_251 : 'NoneType' object has no attribute 'findAll'\n"
     ]
    },
    {
     "name": "stderr",
     "output_type": "stream",
     "text": [
      "Scraping games:  96%|█████████▌| 6268/6525 [1:48:42<03:18,  1.29it/s]"
     ]
    },
    {
     "name": "stdout",
     "output_type": "stream",
     "text": [
      "Erreur sur le jeu https://store.steampowered.com/app/2571430/My_Little_Universe_Official_Soundtrack/?snr=1_7_7_7000_150_251 : 'NoneType' object has no attribute 'findAll'\n"
     ]
    },
    {
     "name": "stderr",
     "output_type": "stream",
     "text": [
      "Scraping games:  97%|█████████▋| 6321/6525 [1:49:35<02:41,  1.26it/s]"
     ]
    },
    {
     "name": "stdout",
     "output_type": "stream",
     "text": [
      "Erreur sur le jeu https://store.steampowered.com/app/2441380/Evolings_Soundtrack/?snr=1_7_7_7000_150_253 : 'NoneType' object has no attribute 'findAll'\n"
     ]
    },
    {
     "name": "stderr",
     "output_type": "stream",
     "text": [
      "Scraping games:  98%|█████████▊| 6372/6525 [1:50:23<01:59,  1.28it/s]"
     ]
    },
    {
     "name": "stdout",
     "output_type": "stream",
     "text": [
      "Erreur sur le jeu https://store.steampowered.com/app/1009710/Arcade_Spirits__Soundtrack/?snr=1_7_7_7000_150_255 : 'NoneType' object has no attribute 'findAll'\n"
     ]
    },
    {
     "name": "stderr",
     "output_type": "stream",
     "text": [
      "Scraping games: 100%|██████████| 6525/6525 [1:53:15<00:00,  1.04s/it]\n"
     ]
    }
   ],
   "source": [
    "df = pd.DataFrame(columns=['gameId','Name', 'Price', 'Genres', 'Rating', 'hasDLC', 'inAppPurchases', 'Release Date', 'Multiplayer'])\n",
    "\n",
    "headers = {\"Accept-Language\": \"en-US\"}\n",
    "cookies = {\n",
    "    'birthtime': '568022401',\n",
    "    'lastagecheckage': '1-January-1988'\n",
    "}\n",
    "\n",
    "for i in tqdm(range(number_of_pages_scraped*25), desc=\"Scraping games\") :\n",
    "    try:\n",
    "        page = requests.get(links[i], headers=headers, cookies=cookies)\n",
    "        bs = BeautifulSoup(page.text, 'html.parser')\n",
    "\n",
    "        gameid = links[i].split('/')[4]\n",
    "\n",
    "        # Name\n",
    "        name_block = bs.find('div','apphub_AppName')\n",
    "        name = name_block.contents[0] if name_block else \"N/A\"\n",
    "\n",
    "        # Find genres\n",
    "        genreblock = bs.find('div','details_block')\n",
    "        title = genreblock.findAll('a')\n",
    "\n",
    "        genres = ['Simulation', 'Sports', 'Action', 'Adventure', 'RPG', 'Strategy', 'Sports', 'Racing', 'Indie',\n",
    "                'Free to Play', 'Massively Multiplayer', 'Casual', 'Early Access']\n",
    "        genre = []\n",
    "\n",
    "        for g in title:\n",
    "            if g.contents[0] in genres:\n",
    "                genre.append(g.contents[0])\n",
    "\n",
    "        # Find rating\n",
    "        rating = \"N/A\"\n",
    "\n",
    "        rating_block = bs.find('div', 'summary_section')\n",
    "        if rating_block:\n",
    "            rating_span = rating_block.findAll('span','game_review_summary')\n",
    "            rating = rating_span[0].contents[0]\n",
    "        \n",
    "        # Price\n",
    "        price = None\n",
    "        \n",
    "            # Case 1 : Discount\n",
    "        tr = bs.find('div', 'discount_original_price')\n",
    "        if tr:\n",
    "            price = tr.text.strip()\n",
    "\n",
    "            # Case 2 : No Discount\n",
    "        if not price:\n",
    "            no_disc = bs.find('div', 'game_purchase_price price')\n",
    "            if no_disc:\n",
    "                price = no_disc.text.strip()\n",
    "\n",
    "        # In-App Purchases\n",
    "        inAppPurchase = False\n",
    "\n",
    "        cat_block = bs.find('div', 'game_area_features_list_ctn')\n",
    "        categor = cat_block.findAll('a')\n",
    "        for cat in categor:\n",
    "            ok = cat.find('div', 'label')\n",
    "            if 'In-App Purchases' in ok.contents[0]:\n",
    "                inAppPurchase = True\n",
    "\n",
    "        # DLC\n",
    "        has_DLC = False\n",
    "\n",
    "        dlc = bs.find('div', 'game_area_dlc_section')\n",
    "        if dlc:\n",
    "            has_DLC = True\n",
    "\n",
    "        # Release Date\n",
    "        release_date = 'N/A'\n",
    "\n",
    "        release_date_block = bs.find('div', class_='release_date')\n",
    "        if release_date_block:\n",
    "            date_div = release_date_block.find('div', class_='date')\n",
    "            release_date = date_div.text.strip() if date_div else 'N/A'\n",
    "            release_date_obj = datetime.strptime(release_date, \"%d %b, %Y\")\n",
    "\n",
    "        # Multiplayer\n",
    "        tags = []\n",
    "        is_multiplayer = False\n",
    "\n",
    "        tag_block = bs.find_all('a', class_='app_tag')\n",
    "        tags = [tag.text.strip() for tag in tag_block if tag.text.strip()]\n",
    "        is_multiplayer = any(\"multiplayer\" in tag.lower() for tag in tags)\n",
    "\n",
    "        # Add row\n",
    "        row = {'gameId':[gameid],'Name':[name], 'Genres':[genre], 'Price':[price],'Rating':[rating], 'hasDLC':[has_DLC], \n",
    "            'inAppPurchases': [inAppPurchase], 'Release Date': [release_date_obj], 'Multiplayer': [is_multiplayer]}\n",
    "        df = pd.concat([df,pd.DataFrame(row)])\n",
    "\n",
    "        # Break\n",
    "        randsleep = uniform(0.0,0.6)\n",
    "        time.sleep(randsleep)\n",
    "\n",
    "        # Break every 100 requests\n",
    "        if (i + 1) % 100 == 0:\n",
    "            time.sleep(uniform(2, 5))\n",
    "\n",
    "    except Exception as e:\n",
    "        print(f\"Erreur sur le jeu {links[i]} : {e}\")\n",
    "\n",
    "df = df.reset_index(drop=True)"
   ]
  },
  {
   "cell_type": "code",
   "execution_count": 80,
   "id": "cdce6529-4ab0-4c51-9554-3b3f80739e6a",
   "metadata": {},
   "outputs": [
    {
     "data": {
      "text/html": [
       "<div>\n",
       "<style scoped>\n",
       "    .dataframe tbody tr th:only-of-type {\n",
       "        vertical-align: middle;\n",
       "    }\n",
       "\n",
       "    .dataframe tbody tr th {\n",
       "        vertical-align: top;\n",
       "    }\n",
       "\n",
       "    .dataframe thead th {\n",
       "        text-align: right;\n",
       "    }\n",
       "</style>\n",
       "<table border=\"1\" class=\"dataframe\">\n",
       "  <thead>\n",
       "    <tr style=\"text-align: right;\">\n",
       "      <th></th>\n",
       "      <th>gameId</th>\n",
       "      <th>Name</th>\n",
       "      <th>Price</th>\n",
       "      <th>Genres</th>\n",
       "      <th>Rating</th>\n",
       "      <th>hasDLC</th>\n",
       "      <th>inAppPurchases</th>\n",
       "      <th>Release Date</th>\n",
       "      <th>Multiplayer</th>\n",
       "    </tr>\n",
       "  </thead>\n",
       "  <tbody>\n",
       "    <tr>\n",
       "      <th>0</th>\n",
       "      <td>490110</td>\n",
       "      <td>The Precinct</td>\n",
       "      <td>29,99€</td>\n",
       "      <td>[Action, Indie, Simulation]</td>\n",
       "      <td>Very Positive</td>\n",
       "      <td>True</td>\n",
       "      <td>False</td>\n",
       "      <td>2025-05-13</td>\n",
       "      <td>False</td>\n",
       "    </tr>\n",
       "    <tr>\n",
       "      <th>1</th>\n",
       "      <td>1903340</td>\n",
       "      <td>Clair Obscur: Expedition 33</td>\n",
       "      <td>49,99€</td>\n",
       "      <td>[Action, RPG]</td>\n",
       "      <td>Very Positive</td>\n",
       "      <td>True</td>\n",
       "      <td>False</td>\n",
       "      <td>2025-04-24</td>\n",
       "      <td>False</td>\n",
       "    </tr>\n",
       "    <tr>\n",
       "      <th>2</th>\n",
       "      <td>730</td>\n",
       "      <td>Counter-Strike 2</td>\n",
       "      <td>Free To Play</td>\n",
       "      <td>[Action]</td>\n",
       "      <td>Very Positive</td>\n",
       "      <td>True</td>\n",
       "      <td>True</td>\n",
       "      <td>2012-08-21</td>\n",
       "      <td>True</td>\n",
       "    </tr>\n",
       "    <tr>\n",
       "      <th>3</th>\n",
       "      <td>3017860</td>\n",
       "      <td>DOOM: The Dark Ages</td>\n",
       "      <td>79,99€</td>\n",
       "      <td>[Action]</td>\n",
       "      <td>Very Positive</td>\n",
       "      <td>False</td>\n",
       "      <td>False</td>\n",
       "      <td>2025-05-14</td>\n",
       "      <td>False</td>\n",
       "    </tr>\n",
       "    <tr>\n",
       "      <th>4</th>\n",
       "      <td>2625420</td>\n",
       "      <td>Drive Beyond Horizons</td>\n",
       "      <td>24,50€</td>\n",
       "      <td>[Action, Adventure, Casual, Indie, Racing, Sim...</td>\n",
       "      <td>Very Positive</td>\n",
       "      <td>False</td>\n",
       "      <td>False</td>\n",
       "      <td>2025-03-24</td>\n",
       "      <td>True</td>\n",
       "    </tr>\n",
       "  </tbody>\n",
       "</table>\n",
       "</div>"
      ],
      "text/plain": [
       "    gameId                         Name         Price  \\\n",
       "0   490110                 The Precinct        29,99€   \n",
       "1  1903340  Clair Obscur: Expedition 33        49,99€   \n",
       "2      730             Counter-Strike 2  Free To Play   \n",
       "3  3017860          DOOM: The Dark Ages        79,99€   \n",
       "4  2625420        Drive Beyond Horizons        24,50€   \n",
       "\n",
       "                                              Genres         Rating hasDLC  \\\n",
       "0                        [Action, Indie, Simulation]  Very Positive   True   \n",
       "1                                      [Action, RPG]  Very Positive   True   \n",
       "2                                           [Action]  Very Positive   True   \n",
       "3                                           [Action]  Very Positive  False   \n",
       "4  [Action, Adventure, Casual, Indie, Racing, Sim...  Very Positive  False   \n",
       "\n",
       "  inAppPurchases Release Date Multiplayer  \n",
       "0          False   2025-05-13       False  \n",
       "1          False   2025-04-24       False  \n",
       "2           True   2012-08-21        True  \n",
       "3          False   2025-05-14       False  \n",
       "4          False   2025-03-24        True  "
      ]
     },
     "execution_count": 80,
     "metadata": {},
     "output_type": "execute_result"
    }
   ],
   "source": [
    "df.head()"
   ]
  },
  {
   "cell_type": "code",
   "execution_count": 81,
   "id": "87ffe1a0-adc1-4685-8484-9c47b7365d81",
   "metadata": {},
   "outputs": [],
   "source": [
    "df.to_csv('./gamelist.csv')"
   ]
  }
 ],
 "metadata": {
  "kernelspec": {
   "display_name": "Python 3",
   "language": "python",
   "name": "python3"
  },
  "language_info": {
   "codemirror_mode": {
    "name": "ipython",
    "version": 3
   },
   "file_extension": ".py",
   "mimetype": "text/x-python",
   "name": "python",
   "nbconvert_exporter": "python",
   "pygments_lexer": "ipython3",
   "version": "3.11.3"
  }
 },
 "nbformat": 4,
 "nbformat_minor": 5
}
